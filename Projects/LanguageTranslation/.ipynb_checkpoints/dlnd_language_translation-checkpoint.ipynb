{
 "cells": [
  {
   "cell_type": "markdown",
   "metadata": {
    "collapsed": true
   },
   "source": [
    "# Language Translation\n",
    "In this project, you’re going to take a peek into the realm of neural network machine translation.  You’ll be training a sequence to sequence model on a dataset of English and French sentences that can translate new sentences from English to French.\n",
    "## Get the Data\n",
    "Since translating the whole language of English to French will take lots of time to train, we have provided you with a small portion of the English corpus."
   ]
  },
  {
   "cell_type": "code",
   "execution_count": 2,
   "metadata": {
    "collapsed": false
   },
   "outputs": [],
   "source": [
    "\"\"\"\n",
    "DON'T MODIFY ANYTHING IN THIS CELL\n",
    "\"\"\"\n",
    "import helper\n",
    "import problem_unittests as tests\n",
    "\n",
    "source_path = 'data/small_vocab_en'\n",
    "target_path = 'data/small_vocab_fr'\n",
    "source_text = helper.load_data(source_path)\n",
    "target_text = helper.load_data(target_path)"
   ]
  },
  {
   "cell_type": "markdown",
   "metadata": {},
   "source": [
    "## Explore the Data\n",
    "Play around with view_sentence_range to view different parts of the data."
   ]
  },
  {
   "cell_type": "code",
   "execution_count": 3,
   "metadata": {
    "collapsed": false
   },
   "outputs": [
    {
     "name": "stdout",
     "output_type": "stream",
     "text": [
      "Dataset Stats\n",
      "Roughly the number of unique words: 227\n",
      "Number of sentences: 137861\n",
      "Average number of words in a sentence: 13.225277634719028\n",
      "\n",
      "English sentences 0 to 10:\n",
      "new jersey is sometimes quiet during autumn , and it is snowy in april .\n",
      "the united states is usually chilly during july , and it is usually freezing in november .\n",
      "california is usually quiet during march , and it is usually hot in june .\n",
      "the united states is sometimes mild during june , and it is cold in september .\n",
      "your least liked fruit is the grape , but my least liked is the apple .\n",
      "his favorite fruit is the orange , but my favorite is the grape .\n",
      "paris is relaxing during december , but it is usually chilly in july .\n",
      "new jersey is busy during spring , and it is never hot in march .\n",
      "our least liked fruit is the lemon , but my least liked is the grape .\n",
      "the united states is sometimes busy during january , and it is sometimes warm in november .\n",
      "\n",
      "French sentences 0 to 10:\n",
      "new jersey est parfois calme pendant l' automne , et il est neigeux en avril .\n",
      "les états-unis est généralement froid en juillet , et il gèle habituellement en novembre .\n",
      "california est généralement calme en mars , et il est généralement chaud en juin .\n",
      "les états-unis est parfois légère en juin , et il fait froid en septembre .\n",
      "votre moins aimé fruit est le raisin , mais mon moins aimé est la pomme .\n",
      "son fruit préféré est l'orange , mais mon préféré est le raisin .\n",
      "paris est relaxant en décembre , mais il est généralement froid en juillet .\n",
      "new jersey est occupé au printemps , et il est jamais chaude en mars .\n",
      "notre fruit est moins aimé le citron , mais mon moins aimé est le raisin .\n",
      "les états-unis est parfois occupé en janvier , et il est parfois chaud en novembre .\n"
     ]
    }
   ],
   "source": [
    "view_sentence_range = (0, 10)\n",
    "\n",
    "\"\"\"\n",
    "DON'T MODIFY ANYTHING IN THIS CELL\n",
    "\"\"\"\n",
    "import numpy as np\n",
    "\n",
    "print('Dataset Stats')\n",
    "print('Roughly the number of unique words: {}'.format(len({word: None for word in source_text.split()})))\n",
    "\n",
    "sentences = source_text.split('\\n')\n",
    "word_counts = [len(sentence.split()) for sentence in sentences]\n",
    "print('Number of sentences: {}'.format(len(sentences)))\n",
    "print('Average number of words in a sentence: {}'.format(np.average(word_counts)))\n",
    "\n",
    "print()\n",
    "print('English sentences {} to {}:'.format(*view_sentence_range))\n",
    "print('\\n'.join(source_text.split('\\n')[view_sentence_range[0]:view_sentence_range[1]]))\n",
    "print()\n",
    "print('French sentences {} to {}:'.format(*view_sentence_range))\n",
    "print('\\n'.join(target_text.split('\\n')[view_sentence_range[0]:view_sentence_range[1]]))"
   ]
  },
  {
   "cell_type": "markdown",
   "metadata": {},
   "source": [
    "## Implement Preprocessing Function\n",
    "### Text to Word Ids\n",
    "As you did with other RNNs, you must turn the text into a number so the computer can understand it. In the function `text_to_ids()`, you'll turn `source_text` and `target_text` from words to ids.  However, you need to add the `<EOS>` word id at the end of each sentence from `target_text`.  This will help the neural network predict when the sentence should end.\n",
    "\n",
    "You can get the `<EOS>` word id by doing:\n",
    "```python\n",
    "target_vocab_to_int['<EOS>']\n",
    "```\n",
    "You can get other word ids using `source_vocab_to_int` and `target_vocab_to_int`."
   ]
  },
  {
   "cell_type": "code",
   "execution_count": 4,
   "metadata": {
    "collapsed": false
   },
   "outputs": [
    {
     "name": "stdout",
     "output_type": "stream",
     "text": [
      "Tests Passed\n"
     ]
    }
   ],
   "source": [
    "def text_to_ids(source_text, target_text, source_vocab_to_int, target_vocab_to_int):\n",
    "    \"\"\"\n",
    "    Convert source and target text to proper word ids\n",
    "    :param source_text: String that contains all the source text.\n",
    "    :param target_text: String that contains all the target text.\n",
    "    :param source_vocab_to_int: Dictionary to go from the source words to an id\n",
    "    :param target_vocab_to_int: Dictionary to go from the target words to an id\n",
    "    :return: A tuple of lists (source_id_text, target_id_text)\n",
    "    \"\"\"\n",
    "    # TODO: Implement Function\n",
    "    source_id_text = [[source_vocab_to_int[so_l] for so_l in s_text.split()] for s_text in source_text.split('\\n')]\n",
    "    target_id_text = [[target_vocab_to_int[tar_l] for tar_l in tar_text.split()] for tar_text in target_text.split('\\n')]\n",
    "    #There could be a vectorised way to assign id's, but a for loop was easier to write and more readable.\n",
    "    for t in target_id_text:\n",
    "        if t and  t[-1] != target_vocab_to_int['<EOS>']:\n",
    "            t += [target_vocab_to_int['<EOS>']]\n",
    "            \n",
    "    return source_id_text, target_id_text\n",
    "   \n",
    "\n",
    "\"\"\"\n",
    "DON'T MODIFY ANYTHING IN THIS CELL THAT IS BELOW THIS LINE\n",
    "\"\"\"\n",
    "tests.test_text_to_ids(text_to_ids)"
   ]
  },
  {
   "cell_type": "markdown",
   "metadata": {},
   "source": [
    "### Preprocess all the data and save it\n",
    "Running the code cell below will preprocess all the data and save it to file."
   ]
  },
  {
   "cell_type": "code",
   "execution_count": 5,
   "metadata": {
    "collapsed": true
   },
   "outputs": [],
   "source": [
    "\"\"\"\n",
    "DON'T MODIFY ANYTHING IN THIS CELL\n",
    "\"\"\"\n",
    "helper.preprocess_and_save_data(source_path, target_path, text_to_ids)"
   ]
  },
  {
   "cell_type": "markdown",
   "metadata": {},
   "source": [
    "# Check Point\n",
    "This is your first checkpoint. If you ever decide to come back to this notebook or have to restart the notebook, you can start from here. The preprocessed data has been saved to disk."
   ]
  },
  {
   "cell_type": "code",
   "execution_count": 6,
   "metadata": {
    "collapsed": true
   },
   "outputs": [],
   "source": [
    "\"\"\"\n",
    "DON'T MODIFY ANYTHING IN THIS CELL\n",
    "\"\"\"\n",
    "import numpy as np\n",
    "import helper\n",
    "\n",
    "(source_int_text, target_int_text), (source_vocab_to_int, target_vocab_to_int), _ = helper.load_preprocess()"
   ]
  },
  {
   "cell_type": "markdown",
   "metadata": {},
   "source": [
    "### Check the Version of TensorFlow and Access to GPU\n",
    "This will check to make sure you have the correct version of TensorFlow and access to a GPU"
   ]
  },
  {
   "cell_type": "code",
   "execution_count": 7,
   "metadata": {
    "collapsed": false
   },
   "outputs": [
    {
     "name": "stdout",
     "output_type": "stream",
     "text": [
      "TensorFlow Version: 1.0.0\n"
     ]
    },
    {
     "name": "stderr",
     "output_type": "stream",
     "text": [
      "/home/eliquinox/miniconda3/envs/dlnd/lib/python3.6/site-packages/ipykernel/__main__.py:14: UserWarning: No GPU found. Please use a GPU to train your neural network.\n"
     ]
    }
   ],
   "source": [
    "\"\"\"\n",
    "DON'T MODIFY ANYTHING IN THIS CELL\n",
    "\"\"\"\n",
    "from distutils.version import LooseVersion\n",
    "import warnings\n",
    "import tensorflow as tf\n",
    "\n",
    "# Check TensorFlow Version\n",
    "assert LooseVersion(tf.__version__) in [LooseVersion('1.0.0'), LooseVersion('1.0.1')], 'This project requires TensorFlow version 1.0  You are using {}'.format(tf.__version__)\n",
    "print('TensorFlow Version: {}'.format(tf.__version__))\n",
    "\n",
    "# Check for a GPU\n",
    "if not tf.test.gpu_device_name():\n",
    "    warnings.warn('No GPU found. Please use a GPU to train your neural network.')\n",
    "else:\n",
    "    print('Default GPU Device: {}'.format(tf.test.gpu_device_name()))"
   ]
  },
  {
   "cell_type": "markdown",
   "metadata": {},
   "source": [
    "## Build the Neural Network\n",
    "You'll build the components necessary to build a Sequence-to-Sequence model by implementing the following functions below:\n",
    "- `model_inputs`\n",
    "- `process_decoding_input`\n",
    "- `encoding_layer`\n",
    "- `decoding_layer_train`\n",
    "- `decoding_layer_infer`\n",
    "- `decoding_layer`\n",
    "- `seq2seq_model`\n",
    "\n",
    "### Input\n",
    "Implement the `model_inputs()` function to create TF Placeholders for the Neural Network. It should create the following placeholders:\n",
    "\n",
    "- Input text placeholder named \"input\" using the TF Placeholder name parameter with rank 2.\n",
    "- Targets placeholder with rank 2.\n",
    "- Learning rate placeholder with rank 0.\n",
    "- Keep probability placeholder named \"keep_prob\" using the TF Placeholder name parameter with rank 0.\n",
    "\n",
    "Return the placeholders in the following the tuple (Input, Targets, Learing Rate, Keep Probability)"
   ]
  },
  {
   "cell_type": "code",
   "execution_count": 9,
   "metadata": {
    "collapsed": false
   },
   "outputs": [
    {
     "name": "stdout",
     "output_type": "stream",
     "text": [
      "Tests Passed\n"
     ]
    }
   ],
   "source": [
    "def model_inputs():\n",
    "    \"\"\"\n",
    "    Create TF Placeholders for input, targets, and learning rate.\n",
    "    :return: Tuple (input, targets, learning rate, keep probability)\n",
    "    \"\"\"\n",
    "    # TODO: Implement Function\n",
    "    inputs = tf.placeholder(dtype=tf.int32, shape=[None, None], name='input')\n",
    "    target = tf.placeholder(dtype=tf.int32, shape=[None, None], name='target')\n",
    "    learn_rate = tf.placeholder(dtype=tf.float32)\n",
    "    keep_prob = tf.placeholder(dtype=tf.float32, name='keep_prob')\n",
    "    return inputs, target, learn_rate, keep_prob\n",
    "\n",
    "\"\"\"\n",
    "DON'T MODIFY ANYTHING IN THIS CELL THAT IS BELOW THIS LINE\n",
    "\"\"\"\n",
    "tests.test_model_inputs(model_inputs)"
   ]
  },
  {
   "cell_type": "markdown",
   "metadata": {},
   "source": [
    "### Process Decoding Input\n",
    "Implement `process_decoding_input` using TensorFlow to remove the last word id from each batch in `target_data` and concat the GO ID to the beginning of each batch."
   ]
  },
  {
   "cell_type": "code",
   "execution_count": 10,
   "metadata": {
    "collapsed": false
   },
   "outputs": [
    {
     "name": "stdout",
     "output_type": "stream",
     "text": [
      "Tests Passed\n"
     ]
    }
   ],
   "source": [
    "def process_decoding_input(target_data, target_vocab_to_int, batch_size):\n",
    "    \"\"\"\n",
    "    Preprocess target data for dencoding\n",
    "    :param target_data: Target Placehoder\n",
    "    :param target_vocab_to_int: Dictionary to go from the target words to an id\n",
    "    :param batch_size: Batch Size\n",
    "    :return: Preprocessed target data\n",
    "    \"\"\"\n",
    "    # TODO: Implement Function\n",
    "    target_batches = tf.strided_slice(target_data,[0,0], [batch_size, -1], [1,1])\n",
    "    dec_input = tf.concat([tf.fill([batch_size, 1], target_vocab_to_int['<GO>']), target_batches], 1)\n",
    "    return dec_input\n",
    "\n",
    "\"\"\"\n",
    "DON'T MODIFY ANYTHING IN THIS CELL THAT IS BELOW THIS LINE\n",
    "\"\"\"\n",
    "tests.test_process_decoding_input(process_decoding_input)"
   ]
  },
  {
   "cell_type": "markdown",
   "metadata": {},
   "source": [
    "### Encoding\n",
    "Implement `encoding_layer()` to create a Encoder RNN layer using [`tf.nn.dynamic_rnn()`](https://www.tensorflow.org/api_docs/python/tf/nn/dynamic_rnn)."
   ]
  },
  {
   "cell_type": "code",
   "execution_count": 11,
   "metadata": {
    "collapsed": false
   },
   "outputs": [
    {
     "name": "stdout",
     "output_type": "stream",
     "text": [
      "Tests Passed\n"
     ]
    }
   ],
   "source": [
    "def encoding_layer(rnn_inputs, rnn_size, num_layers, keep_prob):\n",
    "    \"\"\"\n",
    "    Create encoding layer\n",
    "    :param rnn_inputs: Inputs for the RNN\n",
    "    :param rnn_size: RNN Size\n",
    "    :param num_layers: Number of layers\n",
    "    :param keep_prob: Dropout keep probability\n",
    "    :return: RNN state\n",
    "    \"\"\"\n",
    "    # TODO: Implement Function\n",
    "    # Unit tests seem to be insterested in dimensions only!\n",
    "    enc_cell = tf.contrib.rnn.MultiRNNCell([tf.contrib.rnn.BasicLSTMCell(rnn_size)] * num_layers)\n",
    "    _, rnn_state = tf.nn.dynamic_rnn(enc_cell, rnn_inputs, dtype=tf.float32)\n",
    "    return rnn_state\n",
    "\n",
    "\"\"\"\n",
    "DON'T MODIFY ANYTHING IN THIS CELL THAT IS BELOW THIS LINE\n",
    "\"\"\"\n",
    "tests.test_encoding_layer(encoding_layer)"
   ]
  },
  {
   "cell_type": "markdown",
   "metadata": {},
   "source": [
    "### Decoding - Training\n",
    "Create training logits using [`tf.contrib.seq2seq.simple_decoder_fn_train()`](https://www.tensorflow.org/versions/r1.0/api_docs/python/tf/contrib/seq2seq/simple_decoder_fn_train) and [`tf.contrib.seq2seq.dynamic_rnn_decoder()`](https://www.tensorflow.org/versions/r1.0/api_docs/python/tf/contrib/seq2seq/dynamic_rnn_decoder).  Apply the `output_fn` to the [`tf.contrib.seq2seq.dynamic_rnn_decoder()`](https://www.tensorflow.org/versions/r1.0/api_docs/python/tf/contrib/seq2seq/dynamic_rnn_decoder) outputs."
   ]
  },
  {
   "cell_type": "code",
   "execution_count": 12,
   "metadata": {
    "collapsed": false
   },
   "outputs": [
    {
     "name": "stdout",
     "output_type": "stream",
     "text": [
      "Tests Passed\n"
     ]
    }
   ],
   "source": [
    "def decoding_layer_train(encoder_state, dec_cell, dec_embed_input, sequence_length, decoding_scope,\n",
    "                         output_fn, keep_prob):\n",
    "    \"\"\"\n",
    "    Create a decoding layer for training\n",
    "    :param encoder_state: Encoder State\n",
    "    :param dec_cell: Decoder RNN Cell\n",
    "    :param dec_embed_input: Decoder embedded input\n",
    "    :param sequence_length: Sequence Length\n",
    "    :param decoding_scope: TenorFlow Variable Scope for decoding\n",
    "    :param output_fn: Function to apply the output layer\n",
    "    :param keep_prob: Dropout keep probability\n",
    "    :return: Train Logits\n",
    "    \"\"\"\n",
    "    # TODO: Implement Function\n",
    "    # Training a decoder\n",
    "    train_decoder_fn = tf.contrib.seq2seq.simple_decoder_fn_train(encoder_state)\n",
    "    output, state, context = tf.contrib.seq2seq.dynamic_rnn_decoder(dec_cell, train_decoder_fn,\n",
    "                                                              dec_embed_input, sequence_length, scope=decoding_scope)\n",
    "    # Output function\n",
    "    train_logits =  output_fn(output)\n",
    "    return train_logits\n",
    "\n",
    "\"\"\"\n",
    "DON'T MODIFY ANYTHING IN THIS CELL THAT IS BELOW THIS LINE\n",
    "\"\"\"\n",
    "tests.test_decoding_layer_train(decoding_layer_train)"
   ]
  },
  {
   "cell_type": "markdown",
   "metadata": {},
   "source": [
    "### Decoding - Inference\n",
    "Create inference logits using [`tf.contrib.seq2seq.simple_decoder_fn_inference()`](https://www.tensorflow.org/versions/r1.0/api_docs/python/tf/contrib/seq2seq/simple_decoder_fn_inference) and [`tf.contrib.seq2seq.dynamic_rnn_decoder()`](https://www.tensorflow.org/versions/r1.0/api_docs/python/tf/contrib/seq2seq/dynamic_rnn_decoder). "
   ]
  },
  {
   "cell_type": "code",
   "execution_count": 15,
   "metadata": {
    "collapsed": false
   },
   "outputs": [
    {
     "name": "stdout",
     "output_type": "stream",
     "text": [
      "Tests Passed\n"
     ]
    }
   ],
   "source": [
    "def decoding_layer_infer(encoder_state, dec_cell, dec_embeddings, start_of_sequence_id, end_of_sequence_id,\n",
    "                         maximum_length, vocab_size, decoding_scope, output_fn, keep_prob):\n",
    "    \"\"\"\n",
    "    Create a decoding layer for inference\n",
    "    :param encoder_state: Encoder state\n",
    "    :param dec_cell: Decoder RNN Cell\n",
    "    :param dec_embeddings: Decoder embeddings\n",
    "    :param start_of_sequence_id: GO ID\n",
    "    :param end_of_sequence_id: EOS Id\n",
    "    :param maximum_length: The maximum allowed time steps to decode\n",
    "    :param vocab_size: Size of vocabulary\n",
    "    :param decoding_scope: TensorFlow Variable Scope for decoding\n",
    "    :param output_fn: Function to apply the output layer\n",
    "    :param keep_prob: Dropout keep probability\n",
    "    :return: Inference Logits\n",
    "    \"\"\"\n",
    "    # TODO: Implement Function\n",
    "    # Got help from Slack community in implementing decoding inference.\n",
    "    infer_decoder_fn = tf.contrib.seq2seq.simple_decoder_fn_inference(\n",
    "        output_fn, \n",
    "        encoder_state,\n",
    "        dec_embeddings,\n",
    "        start_of_sequence_id,\n",
    "        end_of_sequence_id,\n",
    "        maximum_length, vocab_size\n",
    "    )\n",
    "    #dropout = tf.contrib.rnn.DropoutWrapper(dec_cell, keep_prob)??????\n",
    "    output, state, context = tf.contrib.seq2seq.dynamic_rnn_decoder(\n",
    "        dec_cell,\n",
    "        infer_decoder_fn,\n",
    "        scope=decoding_scope\n",
    "    )\n",
    "    \n",
    "    inference_logits = output\n",
    "    \n",
    "    return inference_logits\n",
    "\n",
    "\n",
    "\n",
    "\"\"\"\n",
    "DON'T MODIFY ANYTHING IN THIS CELL THAT IS BELOW THIS LINE\n",
    "\"\"\"\n",
    "tests.test_decoding_layer_infer(decoding_layer_infer)"
   ]
  },
  {
   "cell_type": "markdown",
   "metadata": {},
   "source": [
    "### Build the Decoding Layer\n",
    "Implement `decoding_layer()` to create a Decoder RNN layer.\n",
    "\n",
    "- Create RNN cell for decoding using `rnn_size` and `num_layers`.\n",
    "- Create the output fuction using [`lambda`](https://docs.python.org/3/tutorial/controlflow.html#lambda-expressions) to transform it's input, logits, to class logits.\n",
    "- Use the your `decoding_layer_train(encoder_state, dec_cell, dec_embed_input, sequence_length, decoding_scope, output_fn, keep_prob)` function to get the training logits.\n",
    "- Use your `decoding_layer_infer(encoder_state, dec_cell, dec_embeddings, start_of_sequence_id, end_of_sequence_id, maximum_length, vocab_size, decoding_scope, output_fn, keep_prob)` function to get the inference logits.\n",
    "\n",
    "Note: You'll need to use [tf.variable_scope](https://www.tensorflow.org/api_docs/python/tf/variable_scope) to share variables between training and inference."
   ]
  },
  {
   "cell_type": "code",
   "execution_count": 17,
   "metadata": {
    "collapsed": false
   },
   "outputs": [
    {
     "name": "stdout",
     "output_type": "stream",
     "text": [
      "Tests Passed\n"
     ]
    }
   ],
   "source": [
    "def decoding_layer(dec_embed_input, dec_embeddings, encoder_state, vocab_size, sequence_length, rnn_size,\n",
    "                   num_layers, target_vocab_to_int, keep_prob):\n",
    "    \"\"\"\n",
    "    Create decoding layer\n",
    "    :param dec_embed_input: Decoder embedded input\n",
    "    :param dec_embeddings: Decoder embeddings\n",
    "    :param encoder_state: The encoded state\n",
    "    :param vocab_size: Size of vocabulary\n",
    "    :param sequence_length: Sequence Length\n",
    "    :param rnn_size: RNN Size\n",
    "    :param num_layers: Number of layers\n",
    "    :param target_vocab_to_int: Dictionary to go from the target words to an id\n",
    "    :param keep_prob: Dropout keep probability\n",
    "    :return: Tuple of (Training Logits, Inference Logits)\n",
    "    \"\"\"\n",
    "    # TODO: Implement Function\n",
    "    # Was tricky, but got there in the end. Need more practice using lambdas.\n",
    "    # Dropout now applied here as opposed to inference layer; removed reuse()\n",
    "    lstm = tf.contrib.rnn.BasicLSTMCell(rnn_size)\n",
    "    \n",
    "    dropout = tf.contrib.rnn.DropoutWrapper(lstm, keep_prob)\n",
    "    \n",
    "    dec_cell = tf.contrib.rnn.MultiRNNCell([dropout] * num_layers)\n",
    "    \n",
    "    max_target_sentence_length = max([len(sentence) for sentence in source_int_text])\n",
    "\n",
    "    with tf.variable_scope('decoding_layer') as decoding_scope:\n",
    "        output_fn = lambda x: tf.contrib.layers.fully_connected(x, vocab_size, None, scope=decoding_scope)\n",
    "    \n",
    "    with tf.variable_scope('decoding_layer') as decoding_scope:\n",
    "        train_logits = decoding_layer_train(encoder_state, dec_cell, dec_embed_input, \n",
    "                                            sequence_length, decoding_scope, output_fn, keep_prob)\n",
    "    \n",
    "    with tf.variable_scope('decoding_layer', reuse=True) as decoding_scope:\n",
    "        inference_logits = decoding_layer_infer(encoder_state, dec_cell, dec_embeddings, \n",
    "                                            target_vocab_to_int['<GO>'], target_vocab_to_int['<EOS>'], \n",
    "                                            max_target_sentence_length, \n",
    "                                            vocab_size, decoding_scope, output_fn, keep_prob)\n",
    "        \n",
    "    return train_logits, inference_logits\n",
    "\n",
    "\n",
    "\"\"\"\n",
    "DON'T MODIFY ANYTHING IN THIS CELL THAT IS BELOW THIS LINE\n",
    "\"\"\"\n",
    "tests.test_decoding_layer(decoding_layer)"
   ]
  },
  {
   "cell_type": "markdown",
   "metadata": {},
   "source": [
    "### Build the Neural Network\n",
    "Apply the functions you implemented above to:\n",
    "\n",
    "- Apply embedding to the input data for the encoder.\n",
    "- Encode the input using your `encoding_layer(rnn_inputs, rnn_size, num_layers, keep_prob)`.\n",
    "- Process target data using your `process_decoding_input(target_data, target_vocab_to_int, batch_size)` function.\n",
    "- Apply embedding to the target data for the decoder.\n",
    "- Decode the encoded input using your `decoding_layer(dec_embed_input, dec_embeddings, encoder_state, vocab_size, sequence_length, rnn_size, num_layers, target_vocab_to_int, keep_prob)`."
   ]
  },
  {
   "cell_type": "code",
   "execution_count": 18,
   "metadata": {
    "collapsed": false
   },
   "outputs": [
    {
     "name": "stdout",
     "output_type": "stream",
     "text": [
      "Tests Passed\n"
     ]
    }
   ],
   "source": [
    "def seq2seq_model(input_data, target_data, keep_prob, batch_size, sequence_length, source_vocab_size, target_vocab_size,\n",
    "                  enc_embedding_size, dec_embedding_size, rnn_size, num_layers, target_vocab_to_int):\n",
    "    \"\"\"\n",
    "    Build the Sequence-to-Sequence part of the neural network\n",
    "    :param input_data: Input placeholder\n",
    "    :param target_data: Target placeholder\n",
    "    :param keep_prob: Dropout keep probability placeholder\n",
    "    :param batch_size: Batch Size\n",
    "    :param sequence_length: Sequence Length\n",
    "    :param source_vocab_size: Source vocabulary size\n",
    "    :param target_vocab_size: Target vocabulary size\n",
    "    :param enc_embedding_size: Decoder embedding size\n",
    "    :param dec_embedding_size: Encoder embedding size\n",
    "    :param rnn_size: RNN Size\n",
    "    :param num_layers: Number of layers\n",
    "    :param target_vocab_to_int: Dictionary to go from the target words to an id\n",
    "    :return: Tuple of (Training Logits, Inference Logits)\n",
    "    \"\"\"\n",
    "    # TODO: Implement Function\n",
    "    # Enc embedding\n",
    "    enc_embed_input = tf.contrib.layers.embed_sequence(input_data, source_vocab_size, enc_embedding_size)\n",
    "    encoding_state = encoding_layer(enc_embed_input, rnn_size, num_layers, keep_prob)\n",
    "    processed_target_data = process_decoding_input(target_data, target_vocab_to_int,batch_size)\n",
    "    # Dec Embedding\n",
    "    dec_embeddings = tf.Variable(tf.random_uniform([target_vocab_size, dec_embedding_size]))\n",
    "    dec_embed_input = tf.nn.embedding_lookup(dec_embeddings, processed_target_data)\n",
    "    train_logits, infer_logits = decoding_layer(dec_embed_input, dec_embeddings, encoding_state, target_vocab_size, sequence_length,\n",
    "                                       rnn_size, num_layers, target_vocab_to_int, keep_prob)\n",
    "    return train_logits, infer_logits\n",
    "\n",
    "\"\"\"\n",
    "DON'T MODIFY ANYTHING IN THIS CELL THAT IS BELOW THIS LINE\n",
    "\"\"\"\n",
    "tests.test_seq2seq_model(seq2seq_model)"
   ]
  },
  {
   "cell_type": "markdown",
   "metadata": {},
   "source": [
    "## Neural Network Training\n",
    "### Hyperparameters\n",
    "Tune the following parameters:\n",
    "\n",
    "- Set `epochs` to the number of epochs.\n",
    "- Set `batch_size` to the batch size.\n",
    "- Set `rnn_size` to the size of the RNNs.\n",
    "- Set `num_layers` to the number of layers.\n",
    "- Set `encoding_embedding_size` to the size of the embedding for the encoder.\n",
    "- Set `decoding_embedding_size` to the size of the embedding for the decoder.\n",
    "- Set `learning_rate` to the learning rate.\n",
    "- Set `keep_probability` to the Dropout keep probability"
   ]
  },
  {
   "cell_type": "code",
   "execution_count": 31,
   "metadata": {
    "collapsed": true
   },
   "outputs": [],
   "source": [
    "# Number of Epochs\n",
    "epochs = 5\n",
    "# Batch Size\n",
    "batch_size = 256\n",
    "# RNN Size\n",
    "rnn_size = 10\n",
    "# Number of Layers\n",
    "num_layers = 3\n",
    "# Embedding Size\n",
    "encoding_embedding_size = 128\n",
    "decoding_embedding_size = 128\n",
    "# Learning Rate\n",
    "learning_rate = 0.01\n",
    "# Dropout Keep Probability\n",
    "keep_probability = 0.5"
   ]
  },
  {
   "cell_type": "markdown",
   "metadata": {},
   "source": [
    "### Build the Graph\n",
    "Build the graph using the neural network you implemented."
   ]
  },
  {
   "cell_type": "code",
   "execution_count": 32,
   "metadata": {
    "collapsed": true
   },
   "outputs": [],
   "source": [
    "\"\"\"\n",
    "DON'T MODIFY ANYTHING IN THIS CELL\n",
    "\"\"\"\n",
    "save_path = 'checkpoints/dev'\n",
    "(source_int_text, target_int_text), (source_vocab_to_int, target_vocab_to_int), _ = helper.load_preprocess()\n",
    "max_source_sentence_length = max([len(sentence) for sentence in source_int_text])\n",
    "\n",
    "train_graph = tf.Graph()\n",
    "with train_graph.as_default():\n",
    "    input_data, targets, lr, keep_prob = model_inputs()\n",
    "    sequence_length = tf.placeholder_with_default(max_source_sentence_length, None, name='sequence_length')\n",
    "    input_shape = tf.shape(input_data)\n",
    "    \n",
    "    train_logits, inference_logits = seq2seq_model(\n",
    "        tf.reverse(input_data, [-1]), targets, keep_prob, batch_size, sequence_length, len(source_vocab_to_int), len(target_vocab_to_int),\n",
    "        encoding_embedding_size, decoding_embedding_size, rnn_size, num_layers, target_vocab_to_int)\n",
    "\n",
    "    tf.identity(inference_logits, 'logits')\n",
    "    with tf.name_scope(\"optimization\"):\n",
    "        # Loss function\n",
    "        cost = tf.contrib.seq2seq.sequence_loss(\n",
    "            train_logits,\n",
    "            targets,\n",
    "            tf.ones([input_shape[0], sequence_length]))\n",
    "\n",
    "        # Optimizer\n",
    "        optimizer = tf.train.AdamOptimizer(lr)\n",
    "\n",
    "        # Gradient Clipping\n",
    "        gradients = optimizer.compute_gradients(cost)\n",
    "        capped_gradients = [(tf.clip_by_value(grad, -1., 1.), var) for grad, var in gradients if grad is not None]\n",
    "        train_op = optimizer.apply_gradients(capped_gradients)"
   ]
  },
  {
   "cell_type": "markdown",
   "metadata": {},
   "source": [
    "### Train\n",
    "Train the neural network on the preprocessed data. If you have a hard time getting a good loss, check the forms to see if anyone is having the same problem."
   ]
  },
  {
   "cell_type": "code",
   "execution_count": 33,
   "metadata": {
    "collapsed": false,
    "scrolled": true
   },
   "outputs": [
    {
     "name": "stdout",
     "output_type": "stream",
     "text": [
      "Epoch   0 Batch    0/538 - Train Accuracy:  0.234, Validation Accuracy:  0.316, Loss:  5.878\n",
      "Epoch   0 Batch    1/538 - Train Accuracy:  0.231, Validation Accuracy:  0.316, Loss:  5.837\n",
      "Epoch   0 Batch    2/538 - Train Accuracy:  0.252, Validation Accuracy:  0.317, Loss:  5.782\n",
      "Epoch   0 Batch    3/538 - Train Accuracy:  0.234, Validation Accuracy:  0.319, Loss:  5.716\n",
      "Epoch   0 Batch    4/538 - Train Accuracy:  0.241, Validation Accuracy:  0.319, Loss:  5.629\n",
      "Epoch   0 Batch    5/538 - Train Accuracy:  0.268, Validation Accuracy:  0.319, Loss:  5.519\n",
      "Epoch   0 Batch    6/538 - Train Accuracy:  0.268, Validation Accuracy:  0.316, Loss:  5.407\n",
      "Epoch   0 Batch    7/538 - Train Accuracy:  0.245, Validation Accuracy:  0.316, Loss:  5.309\n",
      "Epoch   0 Batch    8/538 - Train Accuracy:  0.244, Validation Accuracy:  0.316, Loss:  5.192\n",
      "Epoch   0 Batch    9/538 - Train Accuracy:  0.243, Validation Accuracy:  0.316, Loss:  5.075\n",
      "Epoch   0 Batch   10/538 - Train Accuracy:  0.221, Validation Accuracy:  0.316, Loss:  4.964\n",
      "Epoch   0 Batch   11/538 - Train Accuracy:  0.236, Validation Accuracy:  0.316, Loss:  4.834\n",
      "Epoch   0 Batch   12/538 - Train Accuracy:  0.229, Validation Accuracy:  0.316, Loss:  4.718\n",
      "Epoch   0 Batch   13/538 - Train Accuracy:  0.285, Validation Accuracy:  0.316, Loss:  4.542\n",
      "Epoch   0 Batch   14/538 - Train Accuracy:  0.236, Validation Accuracy:  0.316, Loss:  4.471\n",
      "Epoch   0 Batch   15/538 - Train Accuracy:  0.287, Validation Accuracy:  0.316, Loss:  4.313\n",
      "Epoch   0 Batch   16/538 - Train Accuracy:  0.266, Validation Accuracy:  0.316, Loss:  4.209\n",
      "Epoch   0 Batch   17/538 - Train Accuracy:  0.248, Validation Accuracy:  0.316, Loss:  4.173\n",
      "Epoch   0 Batch   18/538 - Train Accuracy:  0.233, Validation Accuracy:  0.316, Loss:  4.113\n",
      "Epoch   0 Batch   19/538 - Train Accuracy:  0.236, Validation Accuracy:  0.316, Loss:  4.051\n",
      "Epoch   0 Batch   20/538 - Train Accuracy:  0.262, Validation Accuracy:  0.316, Loss:  3.930\n",
      "Epoch   0 Batch   21/538 - Train Accuracy:  0.183, Validation Accuracy:  0.316, Loss:  3.996\n",
      "Epoch   0 Batch   22/538 - Train Accuracy:  0.242, Validation Accuracy:  0.316, Loss:  3.895\n",
      "Epoch   0 Batch   23/538 - Train Accuracy:  0.248, Validation Accuracy:  0.316, Loss:  3.853\n",
      "Epoch   0 Batch   24/538 - Train Accuracy:  0.258, Validation Accuracy:  0.316, Loss:  3.800\n",
      "Epoch   0 Batch   25/538 - Train Accuracy:  0.245, Validation Accuracy:  0.316, Loss:  3.822\n",
      "Epoch   0 Batch   26/538 - Train Accuracy:  0.243, Validation Accuracy:  0.316, Loss:  3.800\n",
      "Epoch   0 Batch   27/538 - Train Accuracy:  0.245, Validation Accuracy:  0.316, Loss:  3.767\n",
      "Epoch   0 Batch   28/538 - Train Accuracy:  0.309, Validation Accuracy:  0.316, Loss:  3.575\n",
      "Epoch   0 Batch   29/538 - Train Accuracy:  0.264, Validation Accuracy:  0.316, Loss:  3.682\n",
      "Epoch   0 Batch   30/538 - Train Accuracy:  0.238, Validation Accuracy:  0.316, Loss:  3.768\n",
      "Epoch   0 Batch   31/538 - Train Accuracy:  0.272, Validation Accuracy:  0.316, Loss:  3.648\n",
      "Epoch   0 Batch   32/538 - Train Accuracy:  0.246, Validation Accuracy:  0.316, Loss:  3.702\n",
      "Epoch   0 Batch   33/538 - Train Accuracy:  0.268, Validation Accuracy:  0.316, Loss:  3.640\n",
      "Epoch   0 Batch   34/538 - Train Accuracy:  0.250, Validation Accuracy:  0.316, Loss:  3.722\n",
      "Epoch   0 Batch   35/538 - Train Accuracy:  0.226, Validation Accuracy:  0.316, Loss:  3.729\n",
      "Epoch   0 Batch   36/538 - Train Accuracy:  0.270, Validation Accuracy:  0.316, Loss:  3.620\n",
      "Epoch   0 Batch   37/538 - Train Accuracy:  0.241, Validation Accuracy:  0.316, Loss:  3.694\n",
      "Epoch   0 Batch   38/538 - Train Accuracy:  0.227, Validation Accuracy:  0.316, Loss:  3.722\n",
      "Epoch   0 Batch   39/538 - Train Accuracy:  0.239, Validation Accuracy:  0.316, Loss:  3.694\n",
      "Epoch   0 Batch   40/538 - Train Accuracy:  0.305, Validation Accuracy:  0.316, Loss:  3.443\n",
      "Epoch   0 Batch   41/538 - Train Accuracy:  0.235, Validation Accuracy:  0.316, Loss:  3.664\n",
      "Epoch   0 Batch   42/538 - Train Accuracy:  0.241, Validation Accuracy:  0.316, Loss:  3.646\n",
      "Epoch   0 Batch   43/538 - Train Accuracy:  0.249, Validation Accuracy:  0.316, Loss:  3.637\n",
      "Epoch   0 Batch   44/538 - Train Accuracy:  0.228, Validation Accuracy:  0.316, Loss:  3.665\n",
      "Epoch   0 Batch   45/538 - Train Accuracy:  0.282, Validation Accuracy:  0.316, Loss:  3.511\n",
      "Epoch   0 Batch   46/538 - Train Accuracy:  0.244, Validation Accuracy:  0.316, Loss:  3.610\n",
      "Epoch   0 Batch   47/538 - Train Accuracy:  0.287, Validation Accuracy:  0.316, Loss:  3.482\n",
      "Epoch   0 Batch   48/538 - Train Accuracy:  0.299, Validation Accuracy:  0.316, Loss:  3.433\n",
      "Epoch   0 Batch   49/538 - Train Accuracy:  0.225, Validation Accuracy:  0.316, Loss:  3.632\n",
      "Epoch   0 Batch   50/538 - Train Accuracy:  0.244, Validation Accuracy:  0.316, Loss:  3.557\n",
      "Epoch   0 Batch   51/538 - Train Accuracy:  0.181, Validation Accuracy:  0.316, Loss:  3.757\n",
      "Epoch   0 Batch   52/538 - Train Accuracy:  0.260, Validation Accuracy:  0.316, Loss:  3.525\n",
      "Epoch   0 Batch   53/538 - Train Accuracy:  0.304, Validation Accuracy:  0.316, Loss:  3.334\n",
      "Epoch   0 Batch   54/538 - Train Accuracy:  0.251, Validation Accuracy:  0.316, Loss:  3.513\n",
      "Epoch   0 Batch   55/538 - Train Accuracy:  0.235, Validation Accuracy:  0.316, Loss:  3.543\n",
      "Epoch   0 Batch   56/538 - Train Accuracy:  0.273, Validation Accuracy:  0.316, Loss:  3.421\n",
      "Epoch   0 Batch   57/538 - Train Accuracy:  0.228, Validation Accuracy:  0.316, Loss:  3.550\n",
      "Epoch   0 Batch   58/538 - Train Accuracy:  0.218, Validation Accuracy:  0.316, Loss:  3.558\n",
      "Epoch   0 Batch   59/538 - Train Accuracy:  0.230, Validation Accuracy:  0.316, Loss:  3.513\n",
      "Epoch   0 Batch   60/538 - Train Accuracy:  0.237, Validation Accuracy:  0.316, Loss:  3.475\n",
      "Epoch   0 Batch   61/538 - Train Accuracy:  0.242, Validation Accuracy:  0.316, Loss:  3.455\n",
      "Epoch   0 Batch   62/538 - Train Accuracy:  0.255, Validation Accuracy:  0.316, Loss:  3.377\n",
      "Epoch   0 Batch   63/538 - Train Accuracy:  0.281, Validation Accuracy:  0.316, Loss:  3.297\n",
      "Epoch   0 Batch   64/538 - Train Accuracy:  0.283, Validation Accuracy:  0.316, Loss:  3.295\n",
      "Epoch   0 Batch   65/538 - Train Accuracy:  0.230, Validation Accuracy:  0.317, Loss:  3.455\n",
      "Epoch   0 Batch   66/538 - Train Accuracy:  0.273, Validation Accuracy:  0.316, Loss:  3.296\n",
      "Epoch   0 Batch   67/538 - Train Accuracy:  0.252, Validation Accuracy:  0.316, Loss:  3.346\n",
      "Epoch   0 Batch   68/538 - Train Accuracy:  0.269, Validation Accuracy:  0.316, Loss:  3.233\n",
      "Epoch   0 Batch   69/538 - Train Accuracy:  0.274, Validation Accuracy:  0.345, Loss:  3.346\n",
      "Epoch   0 Batch   70/538 - Train Accuracy:  0.307, Validation Accuracy:  0.346, Loss:  3.218\n",
      "Epoch   0 Batch   71/538 - Train Accuracy:  0.280, Validation Accuracy:  0.347, Loss:  3.327\n",
      "Epoch   0 Batch   72/538 - Train Accuracy:  0.341, Validation Accuracy:  0.376, Loss:  3.188\n",
      "Epoch   0 Batch   73/538 - Train Accuracy:  0.305, Validation Accuracy:  0.377, Loss:  3.318\n",
      "Epoch   0 Batch   74/538 - Train Accuracy:  0.348, Validation Accuracy:  0.377, Loss:  3.160\n",
      "Epoch   0 Batch   75/538 - Train Accuracy:  0.349, Validation Accuracy:  0.377, Loss:  3.131\n",
      "Epoch   0 Batch   76/538 - Train Accuracy:  0.309, Validation Accuracy:  0.377, Loss:  3.292\n",
      "Epoch   0 Batch   77/538 - Train Accuracy:  0.306, Validation Accuracy:  0.377, Loss:  3.273\n",
      "Epoch   0 Batch   78/538 - Train Accuracy:  0.347, Validation Accuracy:  0.376, Loss:  3.119\n",
      "Epoch   0 Batch   79/538 - Train Accuracy:  0.339, Validation Accuracy:  0.377, Loss:  3.102\n",
      "Epoch   0 Batch   80/538 - Train Accuracy:  0.309, Validation Accuracy:  0.377, Loss:  3.236\n",
      "Epoch   0 Batch   81/538 - Train Accuracy:  0.305, Validation Accuracy:  0.377, Loss:  3.234\n",
      "Epoch   0 Batch   82/538 - Train Accuracy:  0.316, Validation Accuracy:  0.377, Loss:  3.169\n",
      "Epoch   0 Batch   83/538 - Train Accuracy:  0.308, Validation Accuracy:  0.377, Loss:  3.198\n",
      "Epoch   0 Batch   84/538 - Train Accuracy:  0.339, Validation Accuracy:  0.376, Loss:  3.078\n",
      "Epoch   0 Batch   85/538 - Train Accuracy:  0.369, Validation Accuracy:  0.376, Loss:  2.937\n",
      "Epoch   0 Batch   86/538 - Train Accuracy:  0.315, Validation Accuracy:  0.376, Loss:  3.162\n",
      "Epoch   0 Batch   87/538 - Train Accuracy:  0.311, Validation Accuracy:  0.376, Loss:  3.144\n",
      "Epoch   0 Batch   88/538 - Train Accuracy:  0.322, Validation Accuracy:  0.376, Loss:  3.113\n",
      "Epoch   0 Batch   89/538 - Train Accuracy:  0.319, Validation Accuracy:  0.376, Loss:  3.114\n",
      "Epoch   0 Batch   90/538 - Train Accuracy:  0.341, Validation Accuracy:  0.376, Loss:  3.023\n",
      "Epoch   0 Batch   91/538 - Train Accuracy:  0.302, Validation Accuracy:  0.377, Loss:  3.152\n",
      "Epoch   0 Batch   92/538 - Train Accuracy:  0.321, Validation Accuracy:  0.376, Loss:  3.096\n",
      "Epoch   0 Batch   93/538 - Train Accuracy:  0.301, Validation Accuracy:  0.377, Loss:  3.127\n",
      "Epoch   0 Batch   94/538 - Train Accuracy:  0.305, Validation Accuracy:  0.377, Loss:  3.151\n",
      "Epoch   0 Batch   95/538 - Train Accuracy:  0.368, Validation Accuracy:  0.377, Loss:  2.864\n",
      "Epoch   0 Batch   96/538 - Train Accuracy:  0.348, Validation Accuracy:  0.377, Loss:  2.937\n",
      "Epoch   0 Batch   97/538 - Train Accuracy:  0.304, Validation Accuracy:  0.377, Loss:  3.091\n",
      "Epoch   0 Batch   98/538 - Train Accuracy:  0.353, Validation Accuracy:  0.377, Loss:  2.915\n",
      "Epoch   0 Batch   99/538 - Train Accuracy:  0.314, Validation Accuracy:  0.378, Loss:  3.077\n",
      "Epoch   0 Batch  100/538 - Train Accuracy:  0.318, Validation Accuracy:  0.381, Loss:  3.051\n",
      "Epoch   0 Batch  101/538 - Train Accuracy:  0.321, Validation Accuracy:  0.380, Loss:  3.038\n",
      "Epoch   0 Batch  102/538 - Train Accuracy:  0.322, Validation Accuracy:  0.380, Loss:  3.063\n",
      "Epoch   0 Batch  103/538 - Train Accuracy:  0.339, Validation Accuracy:  0.381, Loss:  2.971\n",
      "Epoch   0 Batch  104/538 - Train Accuracy:  0.342, Validation Accuracy:  0.381, Loss:  2.945\n",
      "Epoch   0 Batch  105/538 - Train Accuracy:  0.345, Validation Accuracy:  0.377, Loss:  2.908\n",
      "Epoch   0 Batch  106/538 - Train Accuracy:  0.311, Validation Accuracy:  0.377, Loss:  3.032\n",
      "Epoch   0 Batch  107/538 - Train Accuracy:  0.304, Validation Accuracy:  0.377, Loss:  3.061\n",
      "Epoch   0 Batch  108/538 - Train Accuracy:  0.324, Validation Accuracy:  0.377, Loss:  2.981\n",
      "Epoch   0 Batch  109/538 - Train Accuracy:  0.312, Validation Accuracy:  0.377, Loss:  3.016\n",
      "Epoch   0 Batch  110/538 - Train Accuracy:  0.312, Validation Accuracy:  0.377, Loss:  3.028\n",
      "Epoch   0 Batch  111/538 - Train Accuracy:  0.344, Validation Accuracy:  0.376, Loss:  2.877\n",
      "Epoch   0 Batch  112/538 - Train Accuracy:  0.307, Validation Accuracy:  0.376, Loss:  3.017\n",
      "Epoch   0 Batch  113/538 - Train Accuracy:  0.309, Validation Accuracy:  0.376, Loss:  3.019\n",
      "Epoch   0 Batch  114/538 - Train Accuracy:  0.348, Validation Accuracy:  0.376, Loss:  2.859\n",
      "Epoch   0 Batch  115/538 - Train Accuracy:  0.308, Validation Accuracy:  0.377, Loss:  2.990\n",
      "Epoch   0 Batch  116/538 - Train Accuracy:  0.348, Validation Accuracy:  0.377, Loss:  2.872\n",
      "Epoch   0 Batch  117/538 - Train Accuracy:  0.351, Validation Accuracy:  0.377, Loss:  2.850\n",
      "Epoch   0 Batch  118/538 - Train Accuracy:  0.340, Validation Accuracy:  0.377, Loss:  2.862\n",
      "Epoch   0 Batch  119/538 - Train Accuracy:  0.345, Validation Accuracy:  0.377, Loss:  2.835\n",
      "Epoch   0 Batch  120/538 - Train Accuracy:  0.305, Validation Accuracy:  0.377, Loss:  2.976\n",
      "Epoch   0 Batch  121/538 - Train Accuracy:  0.355, Validation Accuracy:  0.377, Loss:  2.785\n",
      "Epoch   0 Batch  122/538 - Train Accuracy:  0.333, Validation Accuracy:  0.377, Loss:  2.856\n",
      "Epoch   0 Batch  123/538 - Train Accuracy:  0.333, Validation Accuracy:  0.359, Loss:  2.792\n",
      "Epoch   0 Batch  124/538 - Train Accuracy:  0.361, Validation Accuracy:  0.370, Loss:  2.732\n",
      "Epoch   0 Batch  125/538 - Train Accuracy:  0.331, Validation Accuracy:  0.371, Loss:  2.850\n",
      "Epoch   0 Batch  126/538 - Train Accuracy:  0.365, Validation Accuracy:  0.370, Loss:  2.730\n",
      "Epoch   0 Batch  127/538 - Train Accuracy:  0.296, Validation Accuracy:  0.369, Loss:  2.947\n",
      "Epoch   0 Batch  128/538 - Train Accuracy:  0.341, Validation Accuracy:  0.374, Loss:  2.799\n",
      "Epoch   0 Batch  129/538 - Train Accuracy:  0.338, Validation Accuracy:  0.375, Loss:  2.799\n",
      "Epoch   0 Batch  130/538 - Train Accuracy:  0.334, Validation Accuracy:  0.376, Loss:  2.811\n",
      "Epoch   0 Batch  131/538 - Train Accuracy:  0.307, Validation Accuracy:  0.376, Loss:  2.920\n",
      "Epoch   0 Batch  132/538 - Train Accuracy:  0.343, Validation Accuracy:  0.376, Loss:  2.767\n",
      "Epoch   0 Batch  133/538 - Train Accuracy:  0.366, Validation Accuracy:  0.376, Loss:  2.696\n",
      "Epoch   0 Batch  134/538 - Train Accuracy:  0.300, Validation Accuracy:  0.376, Loss:  2.960\n",
      "Epoch   0 Batch  135/538 - Train Accuracy:  0.336, Validation Accuracy:  0.370, Loss:  2.784\n",
      "Epoch   0 Batch  136/538 - Train Accuracy:  0.328, Validation Accuracy:  0.370, Loss:  2.797\n",
      "Epoch   0 Batch  137/538 - Train Accuracy:  0.351, Validation Accuracy:  0.376, Loss:  2.743\n",
      "Epoch   0 Batch  138/538 - Train Accuracy:  0.341, Validation Accuracy:  0.376, Loss:  2.781\n",
      "Epoch   0 Batch  139/538 - Train Accuracy:  0.301, Validation Accuracy:  0.376, Loss:  2.918\n",
      "Epoch   0 Batch  140/538 - Train Accuracy:  0.316, Validation Accuracy:  0.376, Loss:  2.872\n",
      "Epoch   0 Batch  141/538 - Train Accuracy:  0.318, Validation Accuracy:  0.377, Loss:  2.872\n",
      "Epoch   0 Batch  142/538 - Train Accuracy:  0.356, Validation Accuracy:  0.378, Loss:  2.686\n",
      "Epoch   0 Batch  143/538 - Train Accuracy:  0.296, Validation Accuracy:  0.372, Loss:  2.896\n",
      "Epoch   0 Batch  144/538 - Train Accuracy:  0.321, Validation Accuracy:  0.376, Loss:  2.824\n",
      "Epoch   0 Batch  145/538 - Train Accuracy:  0.353, Validation Accuracy:  0.378, Loss:  2.722\n",
      "Epoch   0 Batch  146/538 - Train Accuracy:  0.368, Validation Accuracy:  0.379, Loss:  2.637\n",
      "Epoch   0 Batch  147/538 - Train Accuracy:  0.363, Validation Accuracy:  0.379, Loss:  2.689\n",
      "Epoch   0 Batch  148/538 - Train Accuracy:  0.315, Validation Accuracy:  0.385, Loss:  2.864\n",
      "Epoch   0 Batch  149/538 - Train Accuracy:  0.330, Validation Accuracy:  0.390, Loss:  2.792\n",
      "Epoch   0 Batch  150/538 - Train Accuracy:  0.326, Validation Accuracy:  0.393, Loss:  2.805\n",
      "Epoch   0 Batch  151/538 - Train Accuracy:  0.370, Validation Accuracy:  0.401, Loss:  2.690\n",
      "Epoch   0 Batch  152/538 - Train Accuracy:  0.364, Validation Accuracy:  0.404, Loss:  2.677\n",
      "Epoch   0 Batch  153/538 - Train Accuracy:  0.340, Validation Accuracy:  0.399, Loss:  2.768\n",
      "Epoch   0 Batch  154/538 - Train Accuracy:  0.349, Validation Accuracy:  0.398, Loss:  2.704\n",
      "Epoch   0 Batch  155/538 - Train Accuracy:  0.363, Validation Accuracy:  0.399, Loss:  2.666\n",
      "Epoch   0 Batch  156/538 - Train Accuracy:  0.339, Validation Accuracy:  0.407, Loss:  2.790\n",
      "Epoch   0 Batch  157/538 - Train Accuracy:  0.363, Validation Accuracy:  0.405, Loss:  2.690\n",
      "Epoch   0 Batch  158/538 - Train Accuracy:  0.326, Validation Accuracy:  0.395, Loss:  2.804\n",
      "Epoch   0 Batch  159/538 - Train Accuracy:  0.347, Validation Accuracy:  0.415, Loss:  2.797\n",
      "Epoch   0 Batch  160/538 - Train Accuracy:  0.376, Validation Accuracy:  0.421, Loss:  2.669\n",
      "Epoch   0 Batch  161/538 - Train Accuracy:  0.353, Validation Accuracy:  0.417, Loss:  2.729\n",
      "Epoch   0 Batch  162/538 - Train Accuracy:  0.390, Validation Accuracy:  0.415, Loss:  2.591\n",
      "Epoch   0 Batch  163/538 - Train Accuracy:  0.384, Validation Accuracy:  0.422, Loss:  2.666\n",
      "Epoch   0 Batch  164/538 - Train Accuracy:  0.362, Validation Accuracy:  0.423, Loss:  2.760\n",
      "Epoch   0 Batch  165/538 - Train Accuracy:  0.388, Validation Accuracy:  0.414, Loss:  2.571\n",
      "Epoch   0 Batch  166/538 - Train Accuracy:  0.367, Validation Accuracy:  0.420, Loss:  2.731\n",
      "Epoch   0 Batch  167/538 - Train Accuracy:  0.396, Validation Accuracy:  0.423, Loss:  2.579\n",
      "Epoch   0 Batch  168/538 - Train Accuracy:  0.354, Validation Accuracy:  0.420, Loss:  2.733\n",
      "Epoch   0 Batch  169/538 - Train Accuracy:  0.358, Validation Accuracy:  0.418, Loss:  2.690\n",
      "Epoch   0 Batch  170/538 - Train Accuracy:  0.381, Validation Accuracy:  0.424, Loss:  2.642\n",
      "Epoch   0 Batch  171/538 - Train Accuracy:  0.352, Validation Accuracy:  0.428, Loss:  2.751\n",
      "Epoch   0 Batch  172/538 - Train Accuracy:  0.382, Validation Accuracy:  0.427, Loss:  2.631\n",
      "Epoch   0 Batch  173/538 - Train Accuracy:  0.381, Validation Accuracy:  0.425, Loss:  2.612\n",
      "Epoch   0 Batch  174/538 - Train Accuracy:  0.348, Validation Accuracy:  0.424, Loss:  2.763\n",
      "Epoch   0 Batch  175/538 - Train Accuracy:  0.329, Validation Accuracy:  0.409, Loss:  2.807\n",
      "Epoch   0 Batch  176/538 - Train Accuracy:  0.335, Validation Accuracy:  0.408, Loss:  2.737\n",
      "Epoch   0 Batch  177/538 - Train Accuracy:  0.371, Validation Accuracy:  0.415, Loss:  2.634\n",
      "Epoch   0 Batch  178/538 - Train Accuracy:  0.404, Validation Accuracy:  0.427, Loss:  2.524\n",
      "Epoch   0 Batch  179/538 - Train Accuracy:  0.365, Validation Accuracy:  0.429, Loss:  2.686\n",
      "Epoch   0 Batch  180/538 - Train Accuracy:  0.395, Validation Accuracy:  0.425, Loss:  2.571\n",
      "Epoch   0 Batch  181/538 - Train Accuracy:  0.356, Validation Accuracy:  0.426, Loss:  2.716\n",
      "Epoch   0 Batch  182/538 - Train Accuracy:  0.343, Validation Accuracy:  0.420, Loss:  2.729\n",
      "Epoch   0 Batch  183/538 - Train Accuracy:  0.383, Validation Accuracy:  0.416, Loss:  2.549\n",
      "Epoch   0 Batch  184/538 - Train Accuracy:  0.387, Validation Accuracy:  0.419, Loss:  2.569\n",
      "Epoch   0 Batch  185/538 - Train Accuracy:  0.359, Validation Accuracy:  0.417, Loss:  2.646\n",
      "Epoch   0 Batch  186/538 - Train Accuracy:  0.364, Validation Accuracy:  0.411, Loss:  2.612\n",
      "Epoch   0 Batch  187/538 - Train Accuracy:  0.421, Validation Accuracy:  0.432, Loss:  2.480\n",
      "Epoch   0 Batch  188/538 - Train Accuracy:  0.356, Validation Accuracy:  0.432, Loss:  2.708\n",
      "Epoch   0 Batch  189/538 - Train Accuracy:  0.370, Validation Accuracy:  0.430, Loss:  2.649\n",
      "Epoch   0 Batch  190/538 - Train Accuracy:  0.397, Validation Accuracy:  0.433, Loss:  2.576\n",
      "Epoch   0 Batch  191/538 - Train Accuracy:  0.398, Validation Accuracy:  0.431, Loss:  2.533\n",
      "Epoch   0 Batch  192/538 - Train Accuracy:  0.385, Validation Accuracy:  0.429, Loss:  2.563\n",
      "Epoch   0 Batch  193/538 - Train Accuracy:  0.405, Validation Accuracy:  0.432, Loss:  2.516\n",
      "Epoch   0 Batch  194/538 - Train Accuracy:  0.359, Validation Accuracy:  0.436, Loss:  2.701\n",
      "Epoch   0 Batch  195/538 - Train Accuracy:  0.415, Validation Accuracy:  0.437, Loss:  2.501\n",
      "Epoch   0 Batch  196/538 - Train Accuracy:  0.385, Validation Accuracy:  0.433, Loss:  2.565\n",
      "Epoch   0 Batch  197/538 - Train Accuracy:  0.412, Validation Accuracy:  0.437, Loss:  2.503\n",
      "Epoch   0 Batch  198/538 - Train Accuracy:  0.407, Validation Accuracy:  0.437, Loss:  2.495\n",
      "Epoch   0 Batch  199/538 - Train Accuracy:  0.361, Validation Accuracy:  0.434, Loss:  2.677\n",
      "Epoch   0 Batch  200/538 - Train Accuracy:  0.361, Validation Accuracy:  0.429, Loss:  2.631\n",
      "Epoch   0 Batch  201/538 - Train Accuracy:  0.388, Validation Accuracy:  0.414, Loss:  2.490\n",
      "Epoch   0 Batch  202/538 - Train Accuracy:  0.342, Validation Accuracy:  0.424, Loss:  2.695\n",
      "Epoch   0 Batch  203/538 - Train Accuracy:  0.353, Validation Accuracy:  0.425, Loss:  2.643\n",
      "Epoch   0 Batch  204/538 - Train Accuracy:  0.358, Validation Accuracy:  0.424, Loss:  2.634\n",
      "Epoch   0 Batch  205/538 - Train Accuracy:  0.397, Validation Accuracy:  0.428, Loss:  2.493\n",
      "Epoch   0 Batch  206/538 - Train Accuracy:  0.357, Validation Accuracy:  0.427, Loss:  2.648\n",
      "Epoch   0 Batch  207/538 - Train Accuracy:  0.402, Validation Accuracy:  0.431, Loss:  2.487\n",
      "Epoch   0 Batch  208/538 - Train Accuracy:  0.371, Validation Accuracy:  0.432, Loss:  2.619\n",
      "Epoch   0 Batch  209/538 - Train Accuracy:  0.356, Validation Accuracy:  0.431, Loss:  2.642\n",
      "Epoch   0 Batch  210/538 - Train Accuracy:  0.386, Validation Accuracy:  0.429, Loss:  2.506\n",
      "Epoch   0 Batch  211/538 - Train Accuracy:  0.358, Validation Accuracy:  0.425, Loss:  2.633\n",
      "Epoch   0 Batch  212/538 - Train Accuracy:  0.381, Validation Accuracy:  0.421, Loss:  2.518\n",
      "Epoch   0 Batch  213/538 - Train Accuracy:  0.360, Validation Accuracy:  0.415, Loss:  2.556\n",
      "Epoch   0 Batch  214/538 - Train Accuracy:  0.368, Validation Accuracy:  0.434, Loss:  2.605\n",
      "Epoch   0 Batch  215/538 - Train Accuracy:  0.356, Validation Accuracy:  0.431, Loss:  2.611\n",
      "Epoch   0 Batch  216/538 - Train Accuracy:  0.348, Validation Accuracy:  0.434, Loss:  2.666\n",
      "Epoch   0 Batch  217/538 - Train Accuracy:  0.405, Validation Accuracy:  0.439, Loss:  2.500\n",
      "Epoch   0 Batch  218/538 - Train Accuracy:  0.356, Validation Accuracy:  0.432, Loss:  2.634\n",
      "Epoch   0 Batch  219/538 - Train Accuracy:  0.364, Validation Accuracy:  0.435, Loss:  2.638\n",
      "Epoch   0 Batch  220/538 - Train Accuracy:  0.401, Validation Accuracy:  0.441, Loss:  2.488\n",
      "Epoch   0 Batch  221/538 - Train Accuracy:  0.397, Validation Accuracy:  0.438, Loss:  2.515\n",
      "Epoch   0 Batch  222/538 - Train Accuracy:  0.402, Validation Accuracy:  0.435, Loss:  2.446\n",
      "Epoch   0 Batch  223/538 - Train Accuracy:  0.376, Validation Accuracy:  0.441, Loss:  2.603\n",
      "Epoch   0 Batch  224/538 - Train Accuracy:  0.365, Validation Accuracy:  0.440, Loss:  2.642\n",
      "Epoch   0 Batch  225/538 - Train Accuracy:  0.399, Validation Accuracy:  0.430, Loss:  2.454\n",
      "Epoch   0 Batch  226/538 - Train Accuracy:  0.392, Validation Accuracy:  0.438, Loss:  2.492\n",
      "Epoch   0 Batch  227/538 - Train Accuracy:  0.434, Validation Accuracy:  0.437, Loss:  2.359\n",
      "Epoch   0 Batch  228/538 - Train Accuracy:  0.378, Validation Accuracy:  0.423, Loss:  2.498\n",
      "Epoch   0 Batch  229/538 - Train Accuracy:  0.391, Validation Accuracy:  0.427, Loss:  2.480\n",
      "Epoch   0 Batch  230/538 - Train Accuracy:  0.371, Validation Accuracy:  0.427, Loss:  2.569\n",
      "Epoch   0 Batch  231/538 - Train Accuracy:  0.365, Validation Accuracy:  0.423, Loss:  2.550\n",
      "Epoch   0 Batch  232/538 - Train Accuracy:  0.341, Validation Accuracy:  0.423, Loss:  2.617\n",
      "Epoch   0 Batch  233/538 - Train Accuracy:  0.391, Validation Accuracy:  0.422, Loss:  2.456\n",
      "Epoch   0 Batch  234/538 - Train Accuracy:  0.369, Validation Accuracy:  0.438, Loss:  2.595\n",
      "Epoch   0 Batch  235/538 - Train Accuracy:  0.392, Validation Accuracy:  0.434, Loss:  2.496\n",
      "Epoch   0 Batch  236/538 - Train Accuracy:  0.367, Validation Accuracy:  0.438, Loss:  2.587\n",
      "Epoch   0 Batch  237/538 - Train Accuracy:  0.396, Validation Accuracy:  0.442, Loss:  2.489\n",
      "Epoch   0 Batch  238/538 - Train Accuracy:  0.418, Validation Accuracy:  0.444, Loss:  2.414\n",
      "Epoch   0 Batch  239/538 - Train Accuracy:  0.381, Validation Accuracy:  0.441, Loss:  2.552\n",
      "Epoch   0 Batch  240/538 - Train Accuracy:  0.396, Validation Accuracy:  0.444, Loss:  2.518\n",
      "Epoch   0 Batch  241/538 - Train Accuracy:  0.377, Validation Accuracy:  0.445, Loss:  2.576\n",
      "Epoch   0 Batch  242/538 - Train Accuracy:  0.380, Validation Accuracy:  0.442, Loss:  2.558\n",
      "Epoch   0 Batch  243/538 - Train Accuracy:  0.357, Validation Accuracy:  0.444, Loss:  2.664\n",
      "Epoch   0 Batch  244/538 - Train Accuracy:  0.397, Validation Accuracy:  0.445, Loss:  2.480\n",
      "Epoch   0 Batch  245/538 - Train Accuracy:  0.386, Validation Accuracy:  0.439, Loss:  2.524\n",
      "Epoch   0 Batch  246/538 - Train Accuracy:  0.410, Validation Accuracy:  0.440, Loss:  2.409\n",
      "Epoch   0 Batch  247/538 - Train Accuracy:  0.369, Validation Accuracy:  0.445, Loss:  2.594\n",
      "Epoch   0 Batch  248/538 - Train Accuracy:  0.381, Validation Accuracy:  0.444, Loss:  2.555\n",
      "Epoch   0 Batch  249/538 - Train Accuracy:  0.398, Validation Accuracy:  0.441, Loss:  2.452\n",
      "Epoch   0 Batch  250/538 - Train Accuracy:  0.381, Validation Accuracy:  0.447, Loss:  2.562\n",
      "Epoch   0 Batch  251/538 - Train Accuracy:  0.377, Validation Accuracy:  0.446, Loss:  2.578\n",
      "Epoch   0 Batch  252/538 - Train Accuracy:  0.398, Validation Accuracy:  0.440, Loss:  2.410\n",
      "Epoch   0 Batch  253/538 - Train Accuracy:  0.405, Validation Accuracy:  0.443, Loss:  2.438\n",
      "Epoch   0 Batch  254/538 - Train Accuracy:  0.398, Validation Accuracy:  0.448, Loss:  2.485\n",
      "Epoch   0 Batch  255/538 - Train Accuracy:  0.382, Validation Accuracy:  0.442, Loss:  2.540\n",
      "Epoch   0 Batch  256/538 - Train Accuracy:  0.373, Validation Accuracy:  0.438, Loss:  2.536\n",
      "Epoch   0 Batch  257/538 - Train Accuracy:  0.418, Validation Accuracy:  0.446, Loss:  2.418\n",
      "Epoch   0 Batch  258/538 - Train Accuracy:  0.411, Validation Accuracy:  0.441, Loss:  2.406\n",
      "Epoch   0 Batch  259/538 - Train Accuracy:  0.400, Validation Accuracy:  0.433, Loss:  2.420\n",
      "Epoch   0 Batch  260/538 - Train Accuracy:  0.401, Validation Accuracy:  0.437, Loss:  2.443\n",
      "Epoch   0 Batch  261/538 - Train Accuracy:  0.365, Validation Accuracy:  0.432, Loss:  2.559\n",
      "Epoch   0 Batch  262/538 - Train Accuracy:  0.352, Validation Accuracy:  0.429, Loss:  2.587\n",
      "Epoch   0 Batch  263/538 - Train Accuracy:  0.382, Validation Accuracy:  0.430, Loss:  2.483\n",
      "Epoch   0 Batch  264/538 - Train Accuracy:  0.363, Validation Accuracy:  0.431, Loss:  2.534\n",
      "Epoch   0 Batch  265/538 - Train Accuracy:  0.358, Validation Accuracy:  0.433, Loss:  2.559\n",
      "Epoch   0 Batch  266/538 - Train Accuracy:  0.387, Validation Accuracy:  0.430, Loss:  2.451\n",
      "Epoch   0 Batch  267/538 - Train Accuracy:  0.377, Validation Accuracy:  0.432, Loss:  2.511\n",
      "Epoch   0 Batch  268/538 - Train Accuracy:  0.387, Validation Accuracy:  0.432, Loss:  2.444\n",
      "Epoch   0 Batch  269/538 - Train Accuracy:  0.374, Validation Accuracy:  0.431, Loss:  2.447\n",
      "Epoch   0 Batch  270/538 - Train Accuracy:  0.365, Validation Accuracy:  0.441, Loss:  2.553\n",
      "Epoch   0 Batch  271/538 - Train Accuracy:  0.371, Validation Accuracy:  0.444, Loss:  2.560\n",
      "Epoch   0 Batch  272/538 - Train Accuracy:  0.355, Validation Accuracy:  0.441, Loss:  2.621\n",
      "Epoch   0 Batch  273/538 - Train Accuracy:  0.394, Validation Accuracy:  0.445, Loss:  2.475\n",
      "Epoch   0 Batch  274/538 - Train Accuracy:  0.361, Validation Accuracy:  0.449, Loss:  2.605\n",
      "Epoch   0 Batch  275/538 - Train Accuracy:  0.384, Validation Accuracy:  0.444, Loss:  2.529\n",
      "Epoch   0 Batch  276/538 - Train Accuracy:  0.382, Validation Accuracy:  0.442, Loss:  2.520\n",
      "Epoch   0 Batch  277/538 - Train Accuracy:  0.394, Validation Accuracy:  0.447, Loss:  2.486\n",
      "Epoch   0 Batch  278/538 - Train Accuracy:  0.385, Validation Accuracy:  0.447, Loss:  2.481\n",
      "Epoch   0 Batch  279/538 - Train Accuracy:  0.379, Validation Accuracy:  0.438, Loss:  2.464\n",
      "Epoch   0 Batch  280/538 - Train Accuracy:  0.415, Validation Accuracy:  0.445, Loss:  2.386\n",
      "Epoch   0 Batch  281/538 - Train Accuracy:  0.393, Validation Accuracy:  0.446, Loss:  2.467\n",
      "Epoch   0 Batch  282/538 - Train Accuracy:  0.401, Validation Accuracy:  0.443, Loss:  2.432\n",
      "Epoch   0 Batch  283/538 - Train Accuracy:  0.396, Validation Accuracy:  0.447, Loss:  2.431\n",
      "Epoch   0 Batch  284/538 - Train Accuracy:  0.391, Validation Accuracy:  0.447, Loss:  2.469\n",
      "Epoch   0 Batch  285/538 - Train Accuracy:  0.400, Validation Accuracy:  0.437, Loss:  2.395\n",
      "Epoch   0 Batch  286/538 - Train Accuracy:  0.379, Validation Accuracy:  0.434, Loss:  2.455\n",
      "Epoch   0 Batch  287/538 - Train Accuracy:  0.411, Validation Accuracy:  0.441, Loss:  2.396\n",
      "Epoch   0 Batch  288/538 - Train Accuracy:  0.363, Validation Accuracy:  0.439, Loss:  2.541\n",
      "Epoch   0 Batch  289/538 - Train Accuracy:  0.408, Validation Accuracy:  0.439, Loss:  2.379\n",
      "Epoch   0 Batch  290/538 - Train Accuracy:  0.380, Validation Accuracy:  0.437, Loss:  2.491\n",
      "Epoch   0 Batch  291/538 - Train Accuracy:  0.388, Validation Accuracy:  0.436, Loss:  2.449\n",
      "Epoch   0 Batch  292/538 - Train Accuracy:  0.410, Validation Accuracy:  0.436, Loss:  2.357\n",
      "Epoch   0 Batch  293/538 - Train Accuracy:  0.413, Validation Accuracy:  0.439, Loss:  2.364\n",
      "Epoch   0 Batch  294/538 - Train Accuracy:  0.346, Validation Accuracy:  0.440, Loss:  2.596\n",
      "Epoch   0 Batch  295/538 - Train Accuracy:  0.429, Validation Accuracy:  0.439, Loss:  2.297\n",
      "Epoch   0 Batch  296/538 - Train Accuracy:  0.397, Validation Accuracy:  0.436, Loss:  2.392\n",
      "Epoch   0 Batch  297/538 - Train Accuracy:  0.362, Validation Accuracy:  0.438, Loss:  2.567\n",
      "Epoch   0 Batch  298/538 - Train Accuracy:  0.398, Validation Accuracy:  0.438, Loss:  2.416\n",
      "Epoch   0 Batch  299/538 - Train Accuracy:  0.396, Validation Accuracy:  0.432, Loss:  2.385\n",
      "Epoch   0 Batch  300/538 - Train Accuracy:  0.409, Validation Accuracy:  0.437, Loss:  2.350\n",
      "Epoch   0 Batch  301/538 - Train Accuracy:  0.401, Validation Accuracy:  0.444, Loss:  2.424\n",
      "Epoch   0 Batch  302/538 - Train Accuracy:  0.424, Validation Accuracy:  0.443, Loss:  2.332\n",
      "Epoch   0 Batch  303/538 - Train Accuracy:  0.436, Validation Accuracy:  0.437, Loss:  2.252\n",
      "Epoch   0 Batch  304/538 - Train Accuracy:  0.380, Validation Accuracy:  0.445, Loss:  2.501\n",
      "Epoch   0 Batch  305/538 - Train Accuracy:  0.391, Validation Accuracy:  0.442, Loss:  2.412\n",
      "Epoch   0 Batch  306/538 - Train Accuracy:  0.402, Validation Accuracy:  0.437, Loss:  2.368\n",
      "Epoch   0 Batch  307/538 - Train Accuracy:  0.388, Validation Accuracy:  0.439, Loss:  2.454\n",
      "Epoch   0 Batch  308/538 - Train Accuracy:  0.393, Validation Accuracy:  0.442, Loss:  2.425\n",
      "Epoch   0 Batch  309/538 - Train Accuracy:  0.368, Validation Accuracy:  0.440, Loss:  2.524\n",
      "Epoch   0 Batch  310/538 - Train Accuracy:  0.365, Validation Accuracy:  0.434, Loss:  2.519\n",
      "Epoch   0 Batch  311/538 - Train Accuracy:  0.411, Validation Accuracy:  0.438, Loss:  2.356\n",
      "Epoch   0 Batch  312/538 - Train Accuracy:  0.439, Validation Accuracy:  0.438, Loss:  2.230\n",
      "Epoch   0 Batch  313/538 - Train Accuracy:  0.380, Validation Accuracy:  0.436, Loss:  2.450\n",
      "Epoch   0 Batch  314/538 - Train Accuracy:  0.396, Validation Accuracy:  0.438, Loss:  2.396\n",
      "Epoch   0 Batch  315/538 - Train Accuracy:  0.403, Validation Accuracy:  0.436, Loss:  2.384\n",
      "Epoch   0 Batch  316/538 - Train Accuracy:  0.398, Validation Accuracy:  0.435, Loss:  2.380\n",
      "Epoch   0 Batch  317/538 - Train Accuracy:  0.374, Validation Accuracy:  0.429, Loss:  2.433\n",
      "Epoch   0 Batch  318/538 - Train Accuracy:  0.388, Validation Accuracy:  0.438, Loss:  2.385\n",
      "Epoch   0 Batch  319/538 - Train Accuracy:  0.412, Validation Accuracy:  0.438, Loss:  2.335\n",
      "Epoch   0 Batch  320/538 - Train Accuracy:  0.402, Validation Accuracy:  0.441, Loss:  2.377\n",
      "Epoch   0 Batch  321/538 - Train Accuracy:  0.406, Validation Accuracy:  0.439, Loss:  2.341\n",
      "Epoch   0 Batch  322/538 - Train Accuracy:  0.404, Validation Accuracy:  0.438, Loss:  2.378\n",
      "Epoch   0 Batch  323/538 - Train Accuracy:  0.395, Validation Accuracy:  0.434, Loss:  2.377\n",
      "Epoch   0 Batch  324/538 - Train Accuracy:  0.366, Validation Accuracy:  0.435, Loss:  2.505\n",
      "Epoch   0 Batch  325/538 - Train Accuracy:  0.393, Validation Accuracy:  0.437, Loss:  2.406\n",
      "Epoch   0 Batch  326/538 - Train Accuracy:  0.381, Validation Accuracy:  0.439, Loss:  2.430\n",
      "Epoch   0 Batch  327/538 - Train Accuracy:  0.370, Validation Accuracy:  0.440, Loss:  2.474\n",
      "Epoch   0 Batch  328/538 - Train Accuracy:  0.401, Validation Accuracy:  0.438, Loss:  2.364\n",
      "Epoch   0 Batch  329/538 - Train Accuracy:  0.393, Validation Accuracy:  0.434, Loss:  2.386\n",
      "Epoch   0 Batch  330/538 - Train Accuracy:  0.401, Validation Accuracy:  0.431, Loss:  2.314\n",
      "Epoch   0 Batch  331/538 - Train Accuracy:  0.367, Validation Accuracy:  0.434, Loss:  2.441\n",
      "Epoch   0 Batch  332/538 - Train Accuracy:  0.364, Validation Accuracy:  0.431, Loss:  2.468\n",
      "Epoch   0 Batch  333/538 - Train Accuracy:  0.404, Validation Accuracy:  0.437, Loss:  2.341\n",
      "Epoch   0 Batch  334/538 - Train Accuracy:  0.444, Validation Accuracy:  0.439, Loss:  2.182\n",
      "Epoch   0 Batch  335/538 - Train Accuracy:  0.394, Validation Accuracy:  0.422, Loss:  2.343\n",
      "Epoch   0 Batch  336/538 - Train Accuracy:  0.396, Validation Accuracy:  0.422, Loss:  2.340\n",
      "Epoch   0 Batch  337/538 - Train Accuracy:  0.403, Validation Accuracy:  0.435, Loss:  2.344\n",
      "Epoch   0 Batch  338/538 - Train Accuracy:  0.396, Validation Accuracy:  0.434, Loss:  2.354\n",
      "Epoch   0 Batch  339/538 - Train Accuracy:  0.392, Validation Accuracy:  0.425, Loss:  2.312\n",
      "Epoch   0 Batch  340/538 - Train Accuracy:  0.353, Validation Accuracy:  0.426, Loss:  2.508\n",
      "Epoch   0 Batch  341/538 - Train Accuracy:  0.362, Validation Accuracy:  0.423, Loss:  2.451\n",
      "Epoch   0 Batch  342/538 - Train Accuracy:  0.401, Validation Accuracy:  0.426, Loss:  2.344\n",
      "Epoch   0 Batch  343/538 - Train Accuracy:  0.374, Validation Accuracy:  0.427, Loss:  2.417\n",
      "Epoch   0 Batch  344/538 - Train Accuracy:  0.368, Validation Accuracy:  0.428, Loss:  2.445\n",
      "Epoch   0 Batch  345/538 - Train Accuracy:  0.396, Validation Accuracy:  0.432, Loss:  2.375\n",
      "Epoch   0 Batch  346/538 - Train Accuracy:  0.387, Validation Accuracy:  0.424, Loss:  2.332\n",
      "Epoch   0 Batch  347/538 - Train Accuracy:  0.386, Validation Accuracy:  0.434, Loss:  2.408\n",
      "Epoch   0 Batch  348/538 - Train Accuracy:  0.404, Validation Accuracy:  0.436, Loss:  2.356\n",
      "Epoch   0 Batch  349/538 - Train Accuracy:  0.370, Validation Accuracy:  0.436, Loss:  2.434\n",
      "Epoch   0 Batch  350/538 - Train Accuracy:  0.391, Validation Accuracy:  0.432, Loss:  2.361\n",
      "Epoch   0 Batch  351/538 - Train Accuracy:  0.366, Validation Accuracy:  0.439, Loss:  2.513\n",
      "Epoch   0 Batch  352/538 - Train Accuracy:  0.400, Validation Accuracy:  0.432, Loss:  2.336\n",
      "Epoch   0 Batch  353/538 - Train Accuracy:  0.379, Validation Accuracy:  0.429, Loss:  2.403\n",
      "Epoch   0 Batch  354/538 - Train Accuracy:  0.349, Validation Accuracy:  0.420, Loss:  2.471\n",
      "Epoch   0 Batch  355/538 - Train Accuracy:  0.358, Validation Accuracy:  0.429, Loss:  2.473\n",
      "Epoch   0 Batch  356/538 - Train Accuracy:  0.413, Validation Accuracy:  0.427, Loss:  2.263\n",
      "Epoch   0 Batch  357/538 - Train Accuracy:  0.364, Validation Accuracy:  0.429, Loss:  2.401\n",
      "Epoch   0 Batch  358/538 - Train Accuracy:  0.364, Validation Accuracy:  0.425, Loss:  2.434\n",
      "Epoch   0 Batch  359/538 - Train Accuracy:  0.399, Validation Accuracy:  0.428, Loss:  2.319\n",
      "Epoch   0 Batch  360/538 - Train Accuracy:  0.364, Validation Accuracy:  0.427, Loss:  2.451\n",
      "Epoch   0 Batch  361/538 - Train Accuracy:  0.393, Validation Accuracy:  0.426, Loss:  2.344\n",
      "Epoch   0 Batch  362/538 - Train Accuracy:  0.399, Validation Accuracy:  0.426, Loss:  2.306\n",
      "Epoch   0 Batch  363/538 - Train Accuracy:  0.409, Validation Accuracy:  0.433, Loss:  2.258\n",
      "Epoch   0 Batch  364/538 - Train Accuracy:  0.368, Validation Accuracy:  0.434, Loss:  2.423\n",
      "Epoch   0 Batch  365/538 - Train Accuracy:  0.392, Validation Accuracy:  0.436, Loss:  2.347\n",
      "Epoch   0 Batch  366/538 - Train Accuracy:  0.374, Validation Accuracy:  0.434, Loss:  2.403\n",
      "Epoch   0 Batch  367/538 - Train Accuracy:  0.370, Validation Accuracy:  0.433, Loss:  2.410\n",
      "Epoch   0 Batch  368/538 - Train Accuracy:  0.464, Validation Accuracy:  0.429, Loss:  2.092\n",
      "Epoch   0 Batch  369/538 - Train Accuracy:  0.368, Validation Accuracy:  0.431, Loss:  2.398\n",
      "Epoch   0 Batch  370/538 - Train Accuracy:  0.357, Validation Accuracy:  0.430, Loss:  2.447\n",
      "Epoch   0 Batch  371/538 - Train Accuracy:  0.415, Validation Accuracy:  0.438, Loss:  2.291\n",
      "Epoch   0 Batch  372/538 - Train Accuracy:  0.393, Validation Accuracy:  0.437, Loss:  2.327\n",
      "Epoch   0 Batch  373/538 - Train Accuracy:  0.373, Validation Accuracy:  0.432, Loss:  2.404\n",
      "Epoch   0 Batch  374/538 - Train Accuracy:  0.364, Validation Accuracy:  0.427, Loss:  2.419\n",
      "Epoch   0 Batch  375/538 - Train Accuracy:  0.414, Validation Accuracy:  0.431, Loss:  2.222\n",
      "Epoch   0 Batch  376/538 - Train Accuracy:  0.384, Validation Accuracy:  0.431, Loss:  2.376\n",
      "Epoch   0 Batch  377/538 - Train Accuracy:  0.397, Validation Accuracy:  0.428, Loss:  2.318\n",
      "Epoch   0 Batch  378/538 - Train Accuracy:  0.400, Validation Accuracy:  0.434, Loss:  2.245\n",
      "Epoch   0 Batch  379/538 - Train Accuracy:  0.404, Validation Accuracy:  0.433, Loss:  2.272\n",
      "Epoch   0 Batch  380/538 - Train Accuracy:  0.376, Validation Accuracy:  0.434, Loss:  2.359\n",
      "Epoch   0 Batch  381/538 - Train Accuracy:  0.397, Validation Accuracy:  0.429, Loss:  2.258\n",
      "Epoch   0 Batch  382/538 - Train Accuracy:  0.372, Validation Accuracy:  0.434, Loss:  2.405\n",
      "Epoch   0 Batch  383/538 - Train Accuracy:  0.382, Validation Accuracy:  0.432, Loss:  2.364\n",
      "Epoch   0 Batch  384/538 - Train Accuracy:  0.393, Validation Accuracy:  0.429, Loss:  2.316\n",
      "Epoch   0 Batch  385/538 - Train Accuracy:  0.392, Validation Accuracy:  0.431, Loss:  2.334\n",
      "Epoch   0 Batch  386/538 - Train Accuracy:  0.384, Validation Accuracy:  0.435, Loss:  2.363\n"
     ]
    },
    {
     "ename": "KeyboardInterrupt",
     "evalue": "",
     "output_type": "error",
     "traceback": [
      "\u001b[1;31m---------------------------------------------------------------------------\u001b[0m",
      "\u001b[1;31mKeyboardInterrupt\u001b[0m                         Traceback (most recent call last)",
      "\u001b[1;32m<ipython-input-33-d7dd20c512f1>\u001b[0m in \u001b[0;36m<module>\u001b[1;34m()\u001b[0m\n\u001b[0;32m     42\u001b[0m                  \u001b[0mlr\u001b[0m\u001b[1;33m:\u001b[0m \u001b[0mlearning_rate\u001b[0m\u001b[1;33m,\u001b[0m\u001b[1;33m\u001b[0m\u001b[0m\n\u001b[0;32m     43\u001b[0m                  \u001b[0msequence_length\u001b[0m\u001b[1;33m:\u001b[0m \u001b[0mtarget_batch\u001b[0m\u001b[1;33m.\u001b[0m\u001b[0mshape\u001b[0m\u001b[1;33m[\u001b[0m\u001b[1;36m1\u001b[0m\u001b[1;33m]\u001b[0m\u001b[1;33m,\u001b[0m\u001b[1;33m\u001b[0m\u001b[0m\n\u001b[1;32m---> 44\u001b[1;33m                  keep_prob: keep_probability})\n\u001b[0m\u001b[0;32m     45\u001b[0m \u001b[1;33m\u001b[0m\u001b[0m\n\u001b[0;32m     46\u001b[0m             batch_train_logits = sess.run(\n",
      "\u001b[1;32m/home/eliquinox/miniconda3/envs/dlnd/lib/python3.6/site-packages/tensorflow/python/client/session.py\u001b[0m in \u001b[0;36mrun\u001b[1;34m(self, fetches, feed_dict, options, run_metadata)\u001b[0m\n\u001b[0;32m    765\u001b[0m     \u001b[1;32mtry\u001b[0m\u001b[1;33m:\u001b[0m\u001b[1;33m\u001b[0m\u001b[0m\n\u001b[0;32m    766\u001b[0m       result = self._run(None, fetches, feed_dict, options_ptr,\n\u001b[1;32m--> 767\u001b[1;33m                          run_metadata_ptr)\n\u001b[0m\u001b[0;32m    768\u001b[0m       \u001b[1;32mif\u001b[0m \u001b[0mrun_metadata\u001b[0m\u001b[1;33m:\u001b[0m\u001b[1;33m\u001b[0m\u001b[0m\n\u001b[0;32m    769\u001b[0m         \u001b[0mproto_data\u001b[0m \u001b[1;33m=\u001b[0m \u001b[0mtf_session\u001b[0m\u001b[1;33m.\u001b[0m\u001b[0mTF_GetBuffer\u001b[0m\u001b[1;33m(\u001b[0m\u001b[0mrun_metadata_ptr\u001b[0m\u001b[1;33m)\u001b[0m\u001b[1;33m\u001b[0m\u001b[0m\n",
      "\u001b[1;32m/home/eliquinox/miniconda3/envs/dlnd/lib/python3.6/site-packages/tensorflow/python/client/session.py\u001b[0m in \u001b[0;36m_run\u001b[1;34m(self, handle, fetches, feed_dict, options, run_metadata)\u001b[0m\n\u001b[0;32m    963\u001b[0m     \u001b[1;32mif\u001b[0m \u001b[0mfinal_fetches\u001b[0m \u001b[1;32mor\u001b[0m \u001b[0mfinal_targets\u001b[0m\u001b[1;33m:\u001b[0m\u001b[1;33m\u001b[0m\u001b[0m\n\u001b[0;32m    964\u001b[0m       results = self._do_run(handle, final_targets, final_fetches,\n\u001b[1;32m--> 965\u001b[1;33m                              feed_dict_string, options, run_metadata)\n\u001b[0m\u001b[0;32m    966\u001b[0m     \u001b[1;32melse\u001b[0m\u001b[1;33m:\u001b[0m\u001b[1;33m\u001b[0m\u001b[0m\n\u001b[0;32m    967\u001b[0m       \u001b[0mresults\u001b[0m \u001b[1;33m=\u001b[0m \u001b[1;33m[\u001b[0m\u001b[1;33m]\u001b[0m\u001b[1;33m\u001b[0m\u001b[0m\n",
      "\u001b[1;32m/home/eliquinox/miniconda3/envs/dlnd/lib/python3.6/site-packages/tensorflow/python/client/session.py\u001b[0m in \u001b[0;36m_do_run\u001b[1;34m(self, handle, target_list, fetch_list, feed_dict, options, run_metadata)\u001b[0m\n\u001b[0;32m   1013\u001b[0m     \u001b[1;32mif\u001b[0m \u001b[0mhandle\u001b[0m \u001b[1;32mis\u001b[0m \u001b[1;32mNone\u001b[0m\u001b[1;33m:\u001b[0m\u001b[1;33m\u001b[0m\u001b[0m\n\u001b[0;32m   1014\u001b[0m       return self._do_call(_run_fn, self._session, feed_dict, fetch_list,\n\u001b[1;32m-> 1015\u001b[1;33m                            target_list, options, run_metadata)\n\u001b[0m\u001b[0;32m   1016\u001b[0m     \u001b[1;32melse\u001b[0m\u001b[1;33m:\u001b[0m\u001b[1;33m\u001b[0m\u001b[0m\n\u001b[0;32m   1017\u001b[0m       return self._do_call(_prun_fn, self._session, handle, feed_dict,\n",
      "\u001b[1;32m/home/eliquinox/miniconda3/envs/dlnd/lib/python3.6/site-packages/tensorflow/python/client/session.py\u001b[0m in \u001b[0;36m_do_call\u001b[1;34m(self, fn, *args)\u001b[0m\n\u001b[0;32m   1020\u001b[0m   \u001b[1;32mdef\u001b[0m \u001b[0m_do_call\u001b[0m\u001b[1;33m(\u001b[0m\u001b[0mself\u001b[0m\u001b[1;33m,\u001b[0m \u001b[0mfn\u001b[0m\u001b[1;33m,\u001b[0m \u001b[1;33m*\u001b[0m\u001b[0margs\u001b[0m\u001b[1;33m)\u001b[0m\u001b[1;33m:\u001b[0m\u001b[1;33m\u001b[0m\u001b[0m\n\u001b[0;32m   1021\u001b[0m     \u001b[1;32mtry\u001b[0m\u001b[1;33m:\u001b[0m\u001b[1;33m\u001b[0m\u001b[0m\n\u001b[1;32m-> 1022\u001b[1;33m       \u001b[1;32mreturn\u001b[0m \u001b[0mfn\u001b[0m\u001b[1;33m(\u001b[0m\u001b[1;33m*\u001b[0m\u001b[0margs\u001b[0m\u001b[1;33m)\u001b[0m\u001b[1;33m\u001b[0m\u001b[0m\n\u001b[0m\u001b[0;32m   1023\u001b[0m     \u001b[1;32mexcept\u001b[0m \u001b[0merrors\u001b[0m\u001b[1;33m.\u001b[0m\u001b[0mOpError\u001b[0m \u001b[1;32mas\u001b[0m \u001b[0me\u001b[0m\u001b[1;33m:\u001b[0m\u001b[1;33m\u001b[0m\u001b[0m\n\u001b[0;32m   1024\u001b[0m       \u001b[0mmessage\u001b[0m \u001b[1;33m=\u001b[0m \u001b[0mcompat\u001b[0m\u001b[1;33m.\u001b[0m\u001b[0mas_text\u001b[0m\u001b[1;33m(\u001b[0m\u001b[0me\u001b[0m\u001b[1;33m.\u001b[0m\u001b[0mmessage\u001b[0m\u001b[1;33m)\u001b[0m\u001b[1;33m\u001b[0m\u001b[0m\n",
      "\u001b[1;32m/home/eliquinox/miniconda3/envs/dlnd/lib/python3.6/site-packages/tensorflow/python/client/session.py\u001b[0m in \u001b[0;36m_run_fn\u001b[1;34m(session, feed_dict, fetch_list, target_list, options, run_metadata)\u001b[0m\n\u001b[0;32m   1002\u001b[0m         return tf_session.TF_Run(session, options,\n\u001b[0;32m   1003\u001b[0m                                  \u001b[0mfeed_dict\u001b[0m\u001b[1;33m,\u001b[0m \u001b[0mfetch_list\u001b[0m\u001b[1;33m,\u001b[0m \u001b[0mtarget_list\u001b[0m\u001b[1;33m,\u001b[0m\u001b[1;33m\u001b[0m\u001b[0m\n\u001b[1;32m-> 1004\u001b[1;33m                                  status, run_metadata)\n\u001b[0m\u001b[0;32m   1005\u001b[0m \u001b[1;33m\u001b[0m\u001b[0m\n\u001b[0;32m   1006\u001b[0m     \u001b[1;32mdef\u001b[0m \u001b[0m_prun_fn\u001b[0m\u001b[1;33m(\u001b[0m\u001b[0msession\u001b[0m\u001b[1;33m,\u001b[0m \u001b[0mhandle\u001b[0m\u001b[1;33m,\u001b[0m \u001b[0mfeed_dict\u001b[0m\u001b[1;33m,\u001b[0m \u001b[0mfetch_list\u001b[0m\u001b[1;33m)\u001b[0m\u001b[1;33m:\u001b[0m\u001b[1;33m\u001b[0m\u001b[0m\n",
      "\u001b[1;31mKeyboardInterrupt\u001b[0m: "
     ]
    }
   ],
   "source": [
    "\"\"\"\n",
    "DON'T MODIFY ANYTHING IN THIS CELL\n",
    "\"\"\"\n",
    "import time\n",
    "\n",
    "def get_accuracy(target, logits):\n",
    "    \"\"\"\n",
    "    Calculate accuracy\n",
    "    \"\"\"\n",
    "    max_seq = max(target.shape[1], logits.shape[1])\n",
    "    if max_seq - target.shape[1]:\n",
    "        target = np.pad(\n",
    "            target,\n",
    "            [(0,0),(0,max_seq - target.shape[1])],\n",
    "            'constant')\n",
    "    if max_seq - logits.shape[1]:\n",
    "        logits = np.pad(\n",
    "            logits,\n",
    "            [(0,0),(0,max_seq - logits.shape[1]), (0,0)],\n",
    "            'constant')\n",
    "\n",
    "    return np.mean(np.equal(target, np.argmax(logits, 2)))\n",
    "\n",
    "train_source = source_int_text[batch_size:]\n",
    "train_target = target_int_text[batch_size:]\n",
    "\n",
    "valid_source = helper.pad_sentence_batch(source_int_text[:batch_size])\n",
    "valid_target = helper.pad_sentence_batch(target_int_text[:batch_size])\n",
    "\n",
    "with tf.Session(graph=train_graph) as sess:\n",
    "    sess.run(tf.global_variables_initializer())\n",
    "\n",
    "    for epoch_i in range(epochs):\n",
    "        for batch_i, (source_batch, target_batch) in enumerate(\n",
    "                helper.batch_data(train_source, train_target, batch_size)):\n",
    "            start_time = time.time()\n",
    "            \n",
    "            _, loss = sess.run(\n",
    "                [train_op, cost],\n",
    "                {input_data: source_batch,\n",
    "                 targets: target_batch,\n",
    "                 lr: learning_rate,\n",
    "                 sequence_length: target_batch.shape[1],\n",
    "                 keep_prob: keep_probability})\n",
    "            \n",
    "            batch_train_logits = sess.run(\n",
    "                inference_logits,\n",
    "                {input_data: source_batch, keep_prob: 1.0})\n",
    "            batch_valid_logits = sess.run(\n",
    "                inference_logits,\n",
    "                {input_data: valid_source, keep_prob: 1.0})\n",
    "                \n",
    "            train_acc = get_accuracy(target_batch, batch_train_logits)\n",
    "            valid_acc = get_accuracy(np.array(valid_target), batch_valid_logits)\n",
    "            end_time = time.time()\n",
    "            print('Epoch {:>3} Batch {:>4}/{} - Train Accuracy: {:>6.3f}, Validation Accuracy: {:>6.3f}, Loss: {:>6.3f}'\n",
    "                  .format(epoch_i, batch_i, len(source_int_text) // batch_size, train_acc, valid_acc, loss))\n",
    "\n",
    "    # Save Model\n",
    "    saver = tf.train.Saver()\n",
    "    saver.save(sess, save_path)\n",
    "    print('Model Trained and Saved')"
   ]
  },
  {
   "cell_type": "markdown",
   "metadata": {},
   "source": [
    "### Save Parameters\n",
    "Save the `batch_size` and `save_path` parameters for inference."
   ]
  },
  {
   "cell_type": "code",
   "execution_count": null,
   "metadata": {
    "collapsed": true
   },
   "outputs": [],
   "source": [
    "\"\"\"\n",
    "DON'T MODIFY ANYTHING IN THIS CELL\n",
    "\"\"\"\n",
    "# Save parameters for checkpoint\n",
    "helper.save_params(save_path)"
   ]
  },
  {
   "cell_type": "markdown",
   "metadata": {},
   "source": [
    "# Checkpoint"
   ]
  },
  {
   "cell_type": "code",
   "execution_count": null,
   "metadata": {
    "collapsed": true
   },
   "outputs": [],
   "source": [
    "\"\"\"\n",
    "DON'T MODIFY ANYTHING IN THIS CELL\n",
    "\"\"\"\n",
    "import tensorflow as tf\n",
    "import numpy as np\n",
    "import helper\n",
    "import problem_unittests as tests\n",
    "\n",
    "_, (source_vocab_to_int, target_vocab_to_int), (source_int_to_vocab, target_int_to_vocab) = helper.load_preprocess()\n",
    "load_path = helper.load_params()"
   ]
  },
  {
   "cell_type": "markdown",
   "metadata": {},
   "source": [
    "## Sentence to Sequence\n",
    "To feed a sentence into the model for translation, you first need to preprocess it.  Implement the function `sentence_to_seq()` to preprocess new sentences.\n",
    "\n",
    "- Convert the sentence to lowercase\n",
    "- Convert words into ids using `vocab_to_int`\n",
    " - Convert words not in the vocabulary, to the `<UNK>` word id."
   ]
  },
  {
   "cell_type": "code",
   "execution_count": 25,
   "metadata": {
    "collapsed": false
   },
   "outputs": [
    {
     "name": "stdout",
     "output_type": "stream",
     "text": [
      "Tests Passed\n"
     ]
    }
   ],
   "source": [
    "def sentence_to_seq(sentence, vocab_to_int):\n",
    "    \"\"\"\n",
    "    Convert a sentence to a sequence of ids\n",
    "    :param sentence: String\n",
    "    :param vocab_to_int: Dictionary to go from the words to an id\n",
    "    :return: List of word ids\n",
    "    \"\"\"\n",
    "    # TODO: Implement Function\n",
    "    word_id_list = [vocab_to_int.get(word, vocab_to_int['<UNK>']) for word in sentence.split()]\n",
    "    return word_id_list\n",
    "\n",
    "\"\"\"\n",
    "DON'T MODIFY ANYTHING IN THIS CELL THAT IS BELOW THIS LINE\n",
    "\"\"\"\n",
    "tests.test_sentence_to_seq(sentence_to_seq)"
   ]
  },
  {
   "cell_type": "markdown",
   "metadata": {},
   "source": [
    "## Translate\n",
    "This will translate `translate_sentence` from English to French."
   ]
  },
  {
   "cell_type": "code",
   "execution_count": 26,
   "metadata": {
    "collapsed": false
   },
   "outputs": [
    {
     "name": "stdout",
     "output_type": "stream",
     "text": [
      "Input\n",
      "  Word Ids:      [163, 187, 88, 106, 34, 207, 161]\n",
      "  English Words: ['he', 'saw', 'a', 'old', 'yellow', 'truck', '.']\n",
      "\n",
      "Prediction\n",
      "  Word Ids:      [68, 33, 335, 338, 309, 311, 89, 62, 1]\n",
      "  French Words: ['il', 'a', 'états-unis', \"l'\", 'en', 'février', 'prochain', '.', '<EOS>']\n"
     ]
    }
   ],
   "source": [
    "translate_sentence = 'he saw a old yellow truck .'\n",
    "\n",
    "\n",
    "\"\"\"\n",
    "DON'T MODIFY ANYTHING IN THIS CELL\n",
    "\"\"\"\n",
    "translate_sentence = sentence_to_seq(translate_sentence, source_vocab_to_int)\n",
    "\n",
    "loaded_graph = tf.Graph()\n",
    "with tf.Session(graph=loaded_graph) as sess:\n",
    "    # Load saved model\n",
    "    loader = tf.train.import_meta_graph(load_path + '.meta')\n",
    "    loader.restore(sess, load_path)\n",
    "\n",
    "    input_data = loaded_graph.get_tensor_by_name('input:0')\n",
    "    logits = loaded_graph.get_tensor_by_name('logits:0')\n",
    "    keep_prob = loaded_graph.get_tensor_by_name('keep_prob:0')\n",
    "\n",
    "    translate_logits = sess.run(logits, {input_data: [translate_sentence], keep_prob: 1.0})[0]\n",
    "\n",
    "print('Input')\n",
    "print('  Word Ids:      {}'.format([i for i in translate_sentence]))\n",
    "print('  English Words: {}'.format([source_int_to_vocab[i] for i in translate_sentence]))\n",
    "\n",
    "print('\\nPrediction')\n",
    "print('  Word Ids:      {}'.format([i for i in np.argmax(translate_logits, 1)]))\n",
    "print('  French Words: {}'.format([target_int_to_vocab[i] for i in np.argmax(translate_logits, 1)]))"
   ]
  },
  {
   "cell_type": "markdown",
   "metadata": {},
   "source": [
    "## Imperfect Translation\n",
    "You might notice that some sentences translate better than others.  Since the dataset you're using only has a vocabulary of 227 English words of the thousands that you use, you're only going to see good results using these words.  For this project, you don't need a perfect translation. However, if you want to create a better translation model, you'll need better data.\n",
    "\n",
    "You can train on the [WMT10 French-English corpus](http://www.statmt.org/wmt10/training-giga-fren.tar).  This dataset has more vocabulary and richer in topics discussed.  However, this will take you days to train, so make sure you've a GPU and the neural network is performing well on dataset we provided.  Just make sure you play with the WMT10 corpus after you've submitted this project.\n",
    "## Submitting This Project\n",
    "When submitting this project, make sure to run all the cells before saving the notebook. Save the notebook file as \"dlnd_language_translation.ipynb\" and save it as a HTML file under \"File\" -> \"Download as\". Include the \"helper.py\" and \"problem_unittests.py\" files in your submission."
   ]
  }
 ],
 "metadata": {
  "kernelspec": {
   "display_name": "Python 3",
   "language": "python",
   "name": "python3"
  },
  "language_info": {
   "codemirror_mode": {
    "name": "ipython",
    "version": 3
   },
   "file_extension": ".py",
   "mimetype": "text/x-python",
   "name": "python",
   "nbconvert_exporter": "python",
   "pygments_lexer": "ipython3",
   "version": "3.6.0"
  }
 },
 "nbformat": 4,
 "nbformat_minor": 1
}
